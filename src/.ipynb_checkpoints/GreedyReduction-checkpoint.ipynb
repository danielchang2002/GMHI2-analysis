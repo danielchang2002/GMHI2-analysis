{
 "cells": [
  {
   "cell_type": "code",
   "execution_count": 1,
   "id": "e541f706",
   "metadata": {},
   "outputs": [],
   "source": [
    "import pandas as pd\n",
    "import numpy as np\n",
    "from utils import get_species, get_labels, get_labels_all"
   ]
  },
  {
   "cell_type": "code",
   "execution_count": 27,
   "id": "f8e3c13d",
   "metadata": {},
   "outputs": [],
   "source": [
    "X, y, y_all = get_species(), get_labels(), get_labels_all()"
   ]
  },
  {
   "cell_type": "code",
   "execution_count": 28,
   "id": "ecd17f1d",
   "metadata": {},
   "outputs": [],
   "source": [
    "from sklearn.model_selection import train_test_split\n",
    "from sklearn.linear_model import LogisticRegression\n",
    "from sklearn.metrics import balanced_accuracy_score, accuracy_score"
   ]
  },
  {
   "cell_type": "code",
   "execution_count": 29,
   "id": "5dd46967",
   "metadata": {},
   "outputs": [
    {
     "data": {
      "text/plain": [
       "array(['ACVD', 'Adenoma', 'Adenoma (MP)', 'Advanced Dementia',\n",
       "       'Behcet’s disease', 'Breast Cancer', 'CD', 'CRC', 'Cancer',\n",
       "       \"Crohn''s disease\", 'Crohns disease',\n",
       "       'End-stage renal disease (ESRD)', 'Graves’ disease', 'Healthy',\n",
       "       'Hypertension (HTN)', 'IGT', 'Large adenoma', 'Liver Cirrhosis',\n",
       "       'NAFLD', 'Non–small cell lung cancer (NSCLC)', 'Obese', 'Obesity',\n",
       "       'Overweight', 'Pancreatic cancer', 'Renal cell carcinoma (RCC)',\n",
       "       'Rheumatoid Arthritis', 'Rheumatoid arthritis', 'Small adenoma',\n",
       "       'T2D', 'Ulcerative colitis', 'Underweight', 'adenoma',\n",
       "       'advanced adenoma', 'ankylosing spondylitis', 'carcinoma',\n",
       "       'schizophrenia', 'ulcerative colitis'], dtype=object)"
      ]
     },
     "execution_count": 29,
     "metadata": {},
     "output_type": "execute_result"
    }
   ],
   "source": [
    "np.unique(y_all)"
   ]
  },
  {
   "cell_type": "code",
   "execution_count": 30,
   "id": "87b29404",
   "metadata": {},
   "outputs": [],
   "source": [
    "X = X[list(filter(lambda x : \"virus\" not in x and \"unclassified\" not in x, X.columns))]"
   ]
  },
  {
   "cell_type": "code",
   "execution_count": 31,
   "id": "3d43e30b",
   "metadata": {},
   "outputs": [],
   "source": [
    "bad_nonhealthies = ((y_all == \"Obesity\") | (y_all == \"Overweight\") | (y_all == \"Underweight\")).values\n",
    "X_red = X.iloc[~bad_nonhealthies, :]\n",
    "y_red = y.iloc[~bad_nonhealthies, :]\n",
    "y_all_red = y_all.iloc[~bad_nonhealthies, :]"
   ]
  },
  {
   "cell_type": "code",
   "execution_count": 32,
   "id": "2bd70c11",
   "metadata": {},
   "outputs": [
    {
     "name": "stderr",
     "output_type": "stream",
     "text": [
      "/Users/daniel/opt/anaconda3/envs/data/lib/python3.7/site-packages/sklearn/utils/validation.py:993: DataConversionWarning: A column-vector y was passed when a 1d array was expected. Please change the shape of y to (n_samples, ), for example using ravel().\n",
      "  y = column_or_1d(y, warn=True)\n"
     ]
    },
    {
     "data": {
      "text/plain": [
       "(0.7542838249669369, 0.7544820717131474)"
      ]
     },
     "execution_count": 32,
     "metadata": {},
     "output_type": "execute_result"
    }
   ],
   "source": [
    "c = 0.00001\n",
    "\n",
    "X_train, X_test, y_train, y_test = train_test_split(X_red, y_red, test_size=0.2, random_state=42)\n",
    "\n",
    "clf = LogisticRegression(random_state=42, penalty=\"l1\", solver=\"liblinear\", C=1, class_weight=\"balanced\")\n",
    "clf.fit(X_train > c, y_train)\n",
    "y_hat = clf.predict(X_test > c)\n",
    "balanced_accuracy_score(y_test, y_hat), accuracy_score(y_test, y_hat)"
   ]
  },
  {
   "cell_type": "code",
   "execution_count": 33,
   "id": "30fea6d7",
   "metadata": {},
   "outputs": [
    {
     "data": {
      "text/plain": [
       "['ACVD',\n",
       " 'Adenoma',\n",
       " 'Adenoma (MP)',\n",
       " 'Advanced Dementia',\n",
       " 'Behcet’s disease',\n",
       " 'Breast Cancer',\n",
       " 'CD',\n",
       " 'CRC',\n",
       " 'Cancer',\n",
       " \"Crohn''s disease\",\n",
       " 'Crohns disease',\n",
       " 'End-stage renal disease (ESRD)',\n",
       " 'Graves’ disease',\n",
       " 'Healthy',\n",
       " 'Hypertension (HTN)',\n",
       " 'IGT',\n",
       " 'Large adenoma',\n",
       " 'Liver Cirrhosis',\n",
       " 'NAFLD',\n",
       " 'Non–small cell lung cancer (NSCLC)',\n",
       " 'Obese',\n",
       " 'Pancreatic cancer',\n",
       " 'Renal cell carcinoma (RCC)',\n",
       " 'Rheumatoid Arthritis',\n",
       " 'Rheumatoid arthritis',\n",
       " 'Small adenoma',\n",
       " 'T2D',\n",
       " 'Ulcerative colitis',\n",
       " 'adenoma',\n",
       " 'advanced adenoma',\n",
       " 'ankylosing spondylitis',\n",
       " 'carcinoma',\n",
       " 'schizophrenia',\n",
       " 'ulcerative colitis']"
      ]
     },
     "execution_count": 33,
     "metadata": {},
     "output_type": "execute_result"
    }
   ],
   "source": [
    "phenotype_list = list(np.unique(y_all_red))\n",
    "old_phenotype_list = list(np.unique(y_all_red))\n",
    "phenotype_list"
   ]
  },
  {
   "cell_type": "code",
   "execution_count": null,
   "id": "4fed1758",
   "metadata": {},
   "outputs": [
    {
     "name": "stderr",
     "output_type": "stream",
     "text": [
      "100%|███████████████████████████████████████████████████████████████| 34/34 [00:29<00:00,  1.16it/s]\n"
     ]
    },
    {
     "name": "stdout",
     "output_type": "stream",
     "text": [
      "best score: 0.7726714901207119\n",
      "Removed phenotype: ['T2D']\n"
     ]
    },
    {
     "name": "stderr",
     "output_type": "stream",
     "text": [
      " 45%|████████████████████████████▋                                  | 15/33 [00:12<00:10,  1.66it/s]"
     ]
    }
   ],
   "source": [
    "from tqdm import tqdm\n",
    "\n",
    "removed_list = []\n",
    "\n",
    "while phenotype_list != []:\n",
    "    best_phenotype_list = []\n",
    "    best_score = -1\n",
    "    best_removed = None\n",
    "    for i in tqdm(range(len(phenotype_list))):\n",
    "        removed = phenotype_list[i]\n",
    "        if removed == \"Healthy\":\n",
    "            continue\n",
    "        curr_phenotype_list = phenotype_list[:i] + phenotype_list[i + 1:]\n",
    "        index = y_all_red.isin(curr_phenotype_list)\n",
    "        X_curr = X_red.iloc[index.values, :]\n",
    "        y_curr = y_red.iloc[index.values, :]\n",
    "        \n",
    "        c = 0.00001\n",
    "\n",
    "        X_train, X_test, y_train, y_test = train_test_split(X_curr, y_curr, test_size=0.2, random_state=42)\n",
    "\n",
    "        clf = LogisticRegression(random_state=42, penalty=\"l1\", solver=\"liblinear\", C=1, class_weight=\"balanced\")\n",
    "        clf.fit(X_train > c, y_train.values.flatten())\n",
    "        y_hat = clf.predict(X_test > c)\n",
    "        score = balanced_accuracy_score(y_test, y_hat)\n",
    "        \n",
    "        if score > best_score:\n",
    "            best_score = score\n",
    "            best_phenotype_list = curr_phenotype_list\n",
    "            best_removed = removed\n",
    "    removed_list.append(best_removed)\n",
    "    phenotype_list = best_phenotype_list\n",
    "    print(\"best score:\", best_score)\n",
    "    print(\"Removed phenotypes:\", removed_list)"
   ]
  },
  {
   "cell_type": "code",
   "execution_count": null,
   "id": "c8a6312a",
   "metadata": {},
   "outputs": [],
   "source": []
  }
 ],
 "metadata": {
  "kernelspec": {
   "display_name": "Python 3 (ipykernel)",
   "language": "python",
   "name": "python3"
  },
  "language_info": {
   "codemirror_mode": {
    "name": "ipython",
    "version": 3
   },
   "file_extension": ".py",
   "mimetype": "text/x-python",
   "name": "python",
   "nbconvert_exporter": "python",
   "pygments_lexer": "ipython3",
   "version": "3.7.9"
  }
 },
 "nbformat": 4,
 "nbformat_minor": 5
}
