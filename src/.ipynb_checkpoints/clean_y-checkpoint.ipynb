{
 "cells": [
  {
   "cell_type": "code",
   "execution_count": 1,
   "id": "672b0f01",
   "metadata": {},
   "outputs": [],
   "source": [
    "import pandas as pd\n",
    "import numpy as np\n",
    "from utils import get_species, get_labels, get_labels_all"
   ]
  },
  {
   "cell_type": "code",
   "execution_count": 2,
   "id": "f07cc72e",
   "metadata": {},
   "outputs": [],
   "source": [
    "y_all = get_labels_all()"
   ]
  },
  {
   "cell_type": "code",
   "execution_count": 50,
   "id": "890916da",
   "metadata": {},
   "outputs": [
    {
     "name": "stdout",
     "output_type": "stream",
     "text": [
      "ACVD 214\n",
      "Adenoma 28\n",
      "Adenoma (MP) 67\n",
      "Advanced Dementia 79\n",
      "Behcet’s disease 24\n",
      "Breast Cancer 62\n",
      "CD 265\n",
      "CRC 468\n",
      "Cancer 119\n",
      "Crohn''s disease 50\n",
      "Crohns disease 12\n",
      "End-stage renal disease (ESRD) 223\n",
      "Graves’ disease 100\n",
      "Healthy 6603\n",
      "Hypertension (HTN) 99\n",
      "IGT 49\n",
      "Large adenoma 15\n",
      "Liver Cirrhosis 163\n",
      "NAFLD 86\n",
      "Non–small cell lung cancer (NSCLC) 65\n",
      "Obese 27\n",
      "Obesity 1063\n",
      "Overweight 1243\n",
      "Pancreatic cancer 24\n",
      "Renal cell carcinoma (RCC) 62\n",
      "Rheumatoid Arthritis 49\n",
      "Rheumatoid arthritis 102\n",
      "Small adenoma 27\n",
      "T2D 378\n",
      "Ulcerative colitis 259\n",
      "Underweight 187\n",
      "adenoma 27\n",
      "advanced adenoma 47\n",
      "ankylosing spondylitis 97\n",
      "carcinoma 46\n",
      "schizophrenia 90\n",
      "ulcerative colitis 13\n"
     ]
    }
   ],
   "source": [
    "un, counts = np.unique(y_all, return_counts=True)\n",
    "for u, c in zip(un, counts):\n",
    "    print(u, c)"
   ]
  },
  {
   "cell_type": "code",
   "execution_count": 62,
   "id": "bfda9a9d",
   "metadata": {},
   "outputs": [],
   "source": [
    "dic = {\"Advanced Dementia\" : \"Mental\",\n",
    "        \"schizophrenia\" : \"Mental\",\n",
    "       \n",
    "        \"Adenoma (MP)\" : \"Cancer\", \n",
    "        \"adenoma\" : \"Cancer\", \n",
    "        \"advanced adenoma\" : \"Cancer\", \n",
    "        \"Small adenoma\" : \"Cancer\", \n",
    "       \"Adenoma\" : \"Cancer\",\n",
    "       \"Carcinoma\" : \"Cancer\",\n",
    "       \"Breast Cancer\" : \"Cancer\",\n",
    "       \"Large adenoma\" : \"Cancer\",\n",
    "       \"carcinoma\" : \"Cancer\",\n",
    "       \"Renal cell carcinoma (RCC)\" : \"Cancer\",\n",
    "       \"CRC\" : \"Cancer\",\n",
    "       \"Non–small cell lung cancer (NSCLC)\" : \"Cancer\",\n",
    "       \"Pancreatic cancer\" : \"Cancer\",\n",
    "       \n",
    "#         \"Crohn''s disease\" : \"AI\", \n",
    "#         \"Crohns disease\" : \"AI\",\n",
    "#         \"CD\" : \"AI\"\n",
    "      }"
   ]
  },
  {
   "cell_type": "code",
   "execution_count": 63,
   "id": "9c0b7fd0",
   "metadata": {},
   "outputs": [
    {
     "name": "stdout",
     "output_type": "stream",
     "text": [
      "ACVD 214\n",
      "Behcet’s disease 24\n",
      "CD 265\n",
      "Cancer 1033\n",
      "Crohn''s disease 50\n",
      "Crohns disease 12\n",
      "End-stage renal disease (ESRD) 223\n",
      "Graves’ disease 100\n",
      "Healthy 6603\n",
      "Hypertension (HTN) 99\n",
      "IGT 49\n",
      "Liver Cirrhosis 163\n",
      "Mental 169\n",
      "NAFLD 86\n",
      "Obese 27\n",
      "Obesity 1063\n",
      "Overweight 1243\n",
      "Pancreatic cancer 24\n",
      "Rheumatoid Arthritis 49\n",
      "Rheumatoid arthritis 102\n",
      "T2D 378\n",
      "Ulcerative colitis 259\n",
      "Underweight 187\n",
      "ankylosing spondylitis 97\n",
      "ulcerative colitis 13\n"
     ]
    }
   ],
   "source": [
    "replaced = y_all.replace(to_replace = dic)\n",
    "un, counts = np.unique(replaced, return_counts=True)\n",
    "for u, c in zip(un, counts):\n",
    "    print(u, c)"
   ]
  },
  {
   "cell_type": "code",
   "execution_count": null,
   "id": "70866cf0",
   "metadata": {},
   "outputs": [],
   "source": []
  }
 ],
 "metadata": {
  "kernelspec": {
   "display_name": "Python 3 (ipykernel)",
   "language": "python",
   "name": "python3"
  },
  "language_info": {
   "codemirror_mode": {
    "name": "ipython",
    "version": 3
   },
   "file_extension": ".py",
   "mimetype": "text/x-python",
   "name": "python",
   "nbconvert_exporter": "python",
   "pygments_lexer": "ipython3",
   "version": "3.7.9"
  }
 },
 "nbformat": 4,
 "nbformat_minor": 5
}
