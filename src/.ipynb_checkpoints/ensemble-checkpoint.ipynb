{
 "cells": [
  {
   "cell_type": "code",
   "execution_count": 1,
   "id": "ab3f7b76",
   "metadata": {},
   "outputs": [],
   "source": [
    "import pandas as pd\n",
    "import numpy as np\n",
    "from utils import get_species, get_labels, get_labels_all"
   ]
  },
  {
   "cell_type": "code",
   "execution_count": 2,
   "id": "a84688c7",
   "metadata": {},
   "outputs": [],
   "source": [
    "X, y, y_all = get_species(), get_labels(), get_labels_all()"
   ]
  },
  {
   "cell_type": "code",
   "execution_count": 3,
   "id": "83a08fcf",
   "metadata": {},
   "outputs": [
    {
     "data": {
      "text/plain": [
       "array([ True,  True,  True, ..., False, False,  True])"
      ]
     },
     "execution_count": 3,
     "metadata": {},
     "output_type": "execute_result"
    }
   ],
   "source": [
    "cols = ((X > 0.00001).mean(axis=0) > 0.01).values\n",
    "cols"
   ]
  },
  {
   "cell_type": "code",
   "execution_count": 4,
   "id": "f41df83d",
   "metadata": {},
   "outputs": [
    {
     "data": {
      "text/plain": [
       "(12532, 542)"
      ]
     },
     "execution_count": 4,
     "metadata": {},
     "output_type": "execute_result"
    }
   ],
   "source": [
    "X = X.iloc[:, cols]\n",
    "X.shape"
   ]
  },
  {
   "cell_type": "code",
   "execution_count": 5,
   "id": "2d395ede",
   "metadata": {},
   "outputs": [
    {
     "data": {
      "text/plain": [
       "(12532, 413)"
      ]
     },
     "execution_count": 5,
     "metadata": {},
     "output_type": "execute_result"
    }
   ],
   "source": [
    "X = X[list(filter(lambda x : \"virus\" not in x and \"unclassified\" not in x, X.columns))]\n",
    "X.shape"
   ]
  },
  {
   "cell_type": "code",
   "execution_count": 6,
   "id": "c2f4ddd9",
   "metadata": {},
   "outputs": [],
   "source": [
    "remove = ((y_all == \"Underweight\") | (y_all == \"Overweight\") | (y_all == \"Obesity\")).values"
   ]
  },
  {
   "cell_type": "code",
   "execution_count": 7,
   "id": "797fac72",
   "metadata": {},
   "outputs": [],
   "source": [
    "X, y, y_all = X.iloc[~remove, :], y.iloc[~remove, :], y_all.iloc[~remove, :]"
   ]
  },
  {
   "cell_type": "code",
   "execution_count": 8,
   "id": "7b9884ad",
   "metadata": {},
   "outputs": [
    {
     "data": {
      "text/plain": [
       "array(['GMHI-10', 'GMHI-11', 'GMHI-13', 'GMHI-14', 'GMHI-15', 'GMHI-17',\n",
       "       'GMHI-19', 'GMHI-2', 'GMHI-21', 'GMHI-23', 'GMHI-24', 'GMHI-26',\n",
       "       'GMHI-27', 'GMHI-28', 'GMHI-3', 'GMHI-31', 'GMHI-32', 'GMHI-33',\n",
       "       'GMHI-4', 'GMHI-5', 'GMHI-9', 'GMHI-V-35', 'GMHI-V-36',\n",
       "       'GMHI-V-38', 'GMHI-V-40', 'GMHI-V-41', 'P103', 'P11', 'P110',\n",
       "       'P113', 'P121', 'P13', 'P132', 'P135', 'P136', 'P140', 'P15',\n",
       "       'P17', 'P2', 'P21', 'P24', 'P32', 'P34', 'P39', 'P4', 'P47', 'P48',\n",
       "       'P53', 'P56', 'P57', 'P59', 'P63', 'P69', 'P74', 'P76', 'P77',\n",
       "       'P8', 'P80', 'P81', 'P86', 'P87', 'P88', 'P89', 'P9', 'P94', 'P95',\n",
       "       'P96', 'P98'], dtype=object)"
      ]
     },
     "execution_count": 8,
     "metadata": {},
     "output_type": "execute_result"
    }
   ],
   "source": [
    "studies = np.unique(X.index.get_level_values(0))\n",
    "studies"
   ]
  },
  {
   "cell_type": "code",
   "execution_count": 48,
   "id": "a99f9217",
   "metadata": {},
   "outputs": [],
   "source": [
    "np.random.seed(42)\n",
    "perm = np.random.permutation(len(studies))\n",
    "prop = 0.9\n",
    "train_idx, test_idx = perm[:int(len(studies) * prop)], perm[int(len(studies) * prop):]\n",
    "train_studies = studies[train_idx]\n",
    "test_studies = studies[test_idx]"
   ]
  },
  {
   "cell_type": "code",
   "execution_count": 49,
   "id": "2e61583f",
   "metadata": {},
   "outputs": [],
   "source": [
    "c = 0.00001\n",
    "X_train, y_train = (X.loc[train_studies].values > c) * 1.0, y.loc[train_studies].values * 1.0\n",
    "X_test, y_test = (X.loc[test_studies].values > c) * 1.0, y.loc[test_studies].values * 1.0"
   ]
  },
  {
   "cell_type": "code",
   "execution_count": 50,
   "id": "92947fd7",
   "metadata": {},
   "outputs": [],
   "source": [
    "from sklearn.linear_model import LogisticRegression\n",
    "\n",
    "clf = LogisticRegression(random_state=42, penalty=\"l1\", solver=\"liblinear\", C=1)"
   ]
  },
  {
   "cell_type": "code",
   "execution_count": 31,
   "id": "c3f9acea",
   "metadata": {},
   "outputs": [
    {
     "data": {
      "text/plain": [
       "0.8841446266158088"
      ]
     },
     "execution_count": 31,
     "metadata": {},
     "output_type": "execute_result"
    }
   ],
   "source": [
    "from sklearn.metrics import balanced_accuracy_score\n",
    "\n",
    "clf.fit(X_train, y.loc[train_studies].index.get_level_values(0))\n",
    "pred = clf.predict(X_train)\n",
    "balanced_accuracy_score(y.loc[train_studies].index.get_level_values(0), pred)"
   ]
  },
  {
   "cell_type": "code",
   "execution_count": 32,
   "id": "12b98e77",
   "metadata": {},
   "outputs": [],
   "source": [
    "pred = clf.predict(X_test)"
   ]
  },
  {
   "cell_type": "code",
   "execution_count": 52,
   "id": "33fadc2f",
   "metadata": {},
   "outputs": [
    {
     "data": {
      "text/plain": [
       "array(['GMHI-V-41', 'P39', 'GMHI-V-38', ..., 'GMHI-V-36', 'P4', 'P56'],\n",
       "      dtype=object)"
      ]
     },
     "execution_count": 52,
     "metadata": {},
     "output_type": "execute_result"
    }
   ],
   "source": [
    "pred"
   ]
  },
  {
   "cell_type": "code",
   "execution_count": 53,
   "id": "729d3e62",
   "metadata": {},
   "outputs": [],
   "source": [
    "classifiers = {}\n",
    "\n",
    "for study in train_studies:\n",
    "    logreg = LogisticRegression(random_state=42, penalty=\"l1\", solver=\"liblinear\", C=1)\n",
    "    un = np.unique(y.loc[study])\n",
    "    if len(un) < 2:\n",
    "        classifiers[study] = un[0]\n",
    "        continue\n",
    "    logreg.fit(X.loc[study].values > c, y.loc[study].values.flatten())\n",
    "    classifiers[study] = logreg"
   ]
  },
  {
   "cell_type": "code",
   "execution_count": 59,
   "id": "cae52837",
   "metadata": {},
   "outputs": [
    {
     "name": "stdout",
     "output_type": "stream",
     "text": [
      "[ True]\n"
     ]
    }
   ],
   "source": [
    "final_pred = []\n",
    "for i in range(X_test.shape[0]):\n",
    "    study = pred[i]\n",
    "    clf = classifiers[study]\n",
    "    if type(clf) == type(True):\n",
    "        final_pred.append(clf)\n",
    "        continue\n",
    "    example = X_test[[i], :]\n",
    "    final_pred.append(clf.predict(example))\n",
    "    break\n"
   ]
  },
  {
   "cell_type": "code",
   "execution_count": null,
   "id": "f5660a27",
   "metadata": {},
   "outputs": [],
   "source": []
  }
 ],
 "metadata": {
  "kernelspec": {
   "display_name": "Python 3 (ipykernel)",
   "language": "python",
   "name": "python3"
  },
  "language_info": {
   "codemirror_mode": {
    "name": "ipython",
    "version": 3
   },
   "file_extension": ".py",
   "mimetype": "text/x-python",
   "name": "python",
   "nbconvert_exporter": "python",
   "pygments_lexer": "ipython3",
   "version": "3.7.9"
  }
 },
 "nbformat": 4,
 "nbformat_minor": 5
}
