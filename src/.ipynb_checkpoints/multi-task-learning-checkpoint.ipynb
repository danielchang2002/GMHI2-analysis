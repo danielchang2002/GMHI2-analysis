{
 "cells": [
  {
   "cell_type": "code",
   "execution_count": 1,
   "id": "6d4b03f5",
   "metadata": {},
   "outputs": [],
   "source": [
    "import pandas as pd\n",
    "import numpy as np\n",
    "from utils import get_species, get_labels, get_labels_all"
   ]
  },
  {
   "cell_type": "code",
   "execution_count": 2,
   "id": "b639b8b5",
   "metadata": {},
   "outputs": [],
   "source": [
    "X, y, y_all = get_species(), get_labels(), get_labels_all()"
   ]
  },
  {
   "cell_type": "code",
   "execution_count": 3,
   "id": "a4b8dc80",
   "metadata": {},
   "outputs": [],
   "source": [
    "X = X[list(filter(lambda x : \"virus\" not in x and \"unclassified\" not in x, X.columns))]"
   ]
  },
  {
   "cell_type": "code",
   "execution_count": 4,
   "id": "aa0abcbc",
   "metadata": {},
   "outputs": [],
   "source": [
    "weights = ((y_all == \"Underweight\") | (y_all == \"Overweight\") | (y_all == \"Obesity\")).values"
   ]
  },
  {
   "cell_type": "code",
   "execution_count": 5,
   "id": "59524b4e",
   "metadata": {},
   "outputs": [],
   "source": [
    "y.iloc[weights] = True"
   ]
  },
  {
   "cell_type": "code",
   "execution_count": 7,
   "id": "340f80f8",
   "metadata": {},
   "outputs": [
    {
     "data": {
      "text/html": [
       "<div>\n",
       "<style scoped>\n",
       "    .dataframe tbody tr th:only-of-type {\n",
       "        vertical-align: middle;\n",
       "    }\n",
       "\n",
       "    .dataframe tbody tr th {\n",
       "        vertical-align: top;\n",
       "    }\n",
       "\n",
       "    .dataframe thead th {\n",
       "        text-align: right;\n",
       "    }\n",
       "</style>\n",
       "<table border=\"1\" class=\"dataframe\">\n",
       "  <thead>\n",
       "    <tr style=\"text-align: right;\">\n",
       "      <th></th>\n",
       "      <th></th>\n",
       "      <th>k__Archaea|p__Euryarchaeota|c__Methanobacteria|o__Methanobacteriales|f__Methanobacteriaceae|g__Methanobrevibacter|s__Methanobrevibacter_smithii</th>\n",
       "      <th>k__Archaea|p__Euryarchaeota|c__Methanobacteria|o__Methanobacteriales|f__Methanobacteriaceae|g__Methanosphaera|s__Methanosphaera_stadtmanae</th>\n",
       "      <th>k__Archaea|p__Euryarchaeota|c__Thermoplasmata|o__Methanomassiliicoccales|f__Methanomassiliicoccaceae|g__Methanomassiliicoccus|s__Candidatus_Methanomassiliicoccus_intestinalis</th>\n",
       "      <th>k__Bacteria|p__Actinobacteria|c__Actinobacteria|o__Actinomycetales|f__Actinomycetaceae|g__Actinobaculum|s__Actinobaculum_sp_oral_taxon_183</th>\n",
       "      <th>k__Bacteria|p__Actinobacteria|c__Actinobacteria|o__Actinomycetales|f__Actinomycetaceae|g__Actinomyces|s__Actinomyces_cardiffensis</th>\n",
       "      <th>k__Bacteria|p__Actinobacteria|c__Actinobacteria|o__Actinomycetales|f__Actinomycetaceae|g__Actinomyces|s__Actinomyces_georgiae</th>\n",
       "      <th>k__Bacteria|p__Actinobacteria|c__Actinobacteria|o__Actinomycetales|f__Actinomycetaceae|g__Actinomyces|s__Actinomyces_graevenitzii</th>\n",
       "      <th>k__Bacteria|p__Actinobacteria|c__Actinobacteria|o__Actinomycetales|f__Actinomycetaceae|g__Actinomyces|s__Actinomyces_hongkongensis</th>\n",
       "      <th>k__Bacteria|p__Actinobacteria|c__Actinobacteria|o__Actinomycetales|f__Actinomycetaceae|g__Actinomyces|s__Actinomyces_johnsonii</th>\n",
       "      <th>k__Bacteria|p__Actinobacteria|c__Actinobacteria|o__Actinomycetales|f__Actinomycetaceae|g__Actinomyces|s__Actinomyces_massiliensis</th>\n",
       "      <th>...</th>\n",
       "      <th>k__Bacteria|p__Spirochaetes|c__Spirochaetia|o__Spirochaetales|f__Spirochaetaceae|g__Treponema|s__Treponema_lecithinolyticum</th>\n",
       "      <th>k__Bacteria|p__Spirochaetes|c__Spirochaetia|o__Spirochaetales|f__Spirochaetaceae|g__Treponema|s__Treponema_maltophilum</th>\n",
       "      <th>k__Bacteria|p__Spirochaetes|c__Spirochaetia|o__Spirochaetales|f__Spirochaetaceae|g__Treponema|s__Treponema_medium</th>\n",
       "      <th>k__Bacteria|p__Spirochaetes|c__Spirochaetia|o__Spirochaetales|f__Spirochaetaceae|g__Treponema|s__Treponema_vincentii</th>\n",
       "      <th>k__Bacteria|p__Synergistetes|c__Synergistia|o__Synergistales|f__Synergistaceae|g__Acetomicrobium|s__Acetomicrobium_flavidum</th>\n",
       "      <th>k__Bacteria|p__Synergistetes|c__Synergistia|o__Synergistales|f__Synergistaceae|g__Cloacibacillus|s__Cloacibacillus_sp_An23</th>\n",
       "      <th>k__Bacteria|p__Tenericutes|c__Mollicutes|o__Acholeplasmatales|f__Acholeplasmataceae|g__Candidatus_Phytoplasma|s__Aster_yellows_witches_broom_phytoplasma</th>\n",
       "      <th>k__Bacteria|p__Tenericutes|c__Mollicutes|o__Mycoplasmatales|f__Mycoplasmataceae|g__Mycoplasma|s__Mycoplasma_bovis</th>\n",
       "      <th>k__Bacteria|p__Tenericutes|c__Mollicutes|o__Mycoplasmatales|f__Mycoplasmataceae|g__Mycoplasma|s__Mycoplasma_sp_HU2014</th>\n",
       "      <th>UNKNOWN</th>\n",
       "    </tr>\n",
       "    <tr>\n",
       "      <th>Study_ID</th>\n",
       "      <th>Sample Accession</th>\n",
       "      <th></th>\n",
       "      <th></th>\n",
       "      <th></th>\n",
       "      <th></th>\n",
       "      <th></th>\n",
       "      <th></th>\n",
       "      <th></th>\n",
       "      <th></th>\n",
       "      <th></th>\n",
       "      <th></th>\n",
       "      <th></th>\n",
       "      <th></th>\n",
       "      <th></th>\n",
       "      <th></th>\n",
       "      <th></th>\n",
       "      <th></th>\n",
       "      <th></th>\n",
       "      <th></th>\n",
       "      <th></th>\n",
       "      <th></th>\n",
       "      <th></th>\n",
       "    </tr>\n",
       "  </thead>\n",
       "  <tbody>\n",
       "    <tr>\n",
       "      <th>GMHI-23</th>\n",
       "      <th>SAMEA3879547</th>\n",
       "      <td>0.008611</td>\n",
       "      <td>0.0</td>\n",
       "      <td>0.0</td>\n",
       "      <td>0.0</td>\n",
       "      <td>0.0</td>\n",
       "      <td>0.0</td>\n",
       "      <td>0.0</td>\n",
       "      <td>0.0</td>\n",
       "      <td>0.0</td>\n",
       "      <td>0.0</td>\n",
       "      <td>...</td>\n",
       "      <td>0.0</td>\n",
       "      <td>0.0</td>\n",
       "      <td>0.0</td>\n",
       "      <td>0.0</td>\n",
       "      <td>0.0</td>\n",
       "      <td>0.0</td>\n",
       "      <td>0.0</td>\n",
       "      <td>0.0</td>\n",
       "      <td>0.0</td>\n",
       "      <td>0.564516</td>\n",
       "    </tr>\n",
       "  </tbody>\n",
       "</table>\n",
       "<p>1 rows × 1392 columns</p>\n",
       "</div>"
      ],
      "text/plain": [
       "                           k__Archaea|p__Euryarchaeota|c__Methanobacteria|o__Methanobacteriales|f__Methanobacteriaceae|g__Methanobrevibacter|s__Methanobrevibacter_smithii  \\\n",
       "Study_ID Sample Accession                                                                                                                                                    \n",
       "GMHI-23  SAMEA3879547                                               0.008611                                                                                                 \n",
       "\n",
       "                           k__Archaea|p__Euryarchaeota|c__Methanobacteria|o__Methanobacteriales|f__Methanobacteriaceae|g__Methanosphaera|s__Methanosphaera_stadtmanae  \\\n",
       "Study_ID Sample Accession                                                                                                                                               \n",
       "GMHI-23  SAMEA3879547                                                    0.0                                                                                            \n",
       "\n",
       "                           k__Archaea|p__Euryarchaeota|c__Thermoplasmata|o__Methanomassiliicoccales|f__Methanomassiliicoccaceae|g__Methanomassiliicoccus|s__Candidatus_Methanomassiliicoccus_intestinalis  \\\n",
       "Study_ID Sample Accession                                                                                                                                                                                   \n",
       "GMHI-23  SAMEA3879547                                                    0.0                                                                                                                                \n",
       "\n",
       "                           k__Bacteria|p__Actinobacteria|c__Actinobacteria|o__Actinomycetales|f__Actinomycetaceae|g__Actinobaculum|s__Actinobaculum_sp_oral_taxon_183  \\\n",
       "Study_ID Sample Accession                                                                                                                                               \n",
       "GMHI-23  SAMEA3879547                                                    0.0                                                                                            \n",
       "\n",
       "                           k__Bacteria|p__Actinobacteria|c__Actinobacteria|o__Actinomycetales|f__Actinomycetaceae|g__Actinomyces|s__Actinomyces_cardiffensis  \\\n",
       "Study_ID Sample Accession                                                                                                                                      \n",
       "GMHI-23  SAMEA3879547                                                    0.0                                                                                   \n",
       "\n",
       "                           k__Bacteria|p__Actinobacteria|c__Actinobacteria|o__Actinomycetales|f__Actinomycetaceae|g__Actinomyces|s__Actinomyces_georgiae  \\\n",
       "Study_ID Sample Accession                                                                                                                                  \n",
       "GMHI-23  SAMEA3879547                                                    0.0                                                                               \n",
       "\n",
       "                           k__Bacteria|p__Actinobacteria|c__Actinobacteria|o__Actinomycetales|f__Actinomycetaceae|g__Actinomyces|s__Actinomyces_graevenitzii  \\\n",
       "Study_ID Sample Accession                                                                                                                                      \n",
       "GMHI-23  SAMEA3879547                                                    0.0                                                                                   \n",
       "\n",
       "                           k__Bacteria|p__Actinobacteria|c__Actinobacteria|o__Actinomycetales|f__Actinomycetaceae|g__Actinomyces|s__Actinomyces_hongkongensis  \\\n",
       "Study_ID Sample Accession                                                                                                                                       \n",
       "GMHI-23  SAMEA3879547                                                    0.0                                                                                    \n",
       "\n",
       "                           k__Bacteria|p__Actinobacteria|c__Actinobacteria|o__Actinomycetales|f__Actinomycetaceae|g__Actinomyces|s__Actinomyces_johnsonii  \\\n",
       "Study_ID Sample Accession                                                                                                                                   \n",
       "GMHI-23  SAMEA3879547                                                    0.0                                                                                \n",
       "\n",
       "                           k__Bacteria|p__Actinobacteria|c__Actinobacteria|o__Actinomycetales|f__Actinomycetaceae|g__Actinomyces|s__Actinomyces_massiliensis  \\\n",
       "Study_ID Sample Accession                                                                                                                                      \n",
       "GMHI-23  SAMEA3879547                                                    0.0                                                                                   \n",
       "\n",
       "                           ...  \\\n",
       "Study_ID Sample Accession  ...   \n",
       "GMHI-23  SAMEA3879547      ...   \n",
       "\n",
       "                           k__Bacteria|p__Spirochaetes|c__Spirochaetia|o__Spirochaetales|f__Spirochaetaceae|g__Treponema|s__Treponema_lecithinolyticum  \\\n",
       "Study_ID Sample Accession                                                                                                                                \n",
       "GMHI-23  SAMEA3879547                                                    0.0                                                                             \n",
       "\n",
       "                           k__Bacteria|p__Spirochaetes|c__Spirochaetia|o__Spirochaetales|f__Spirochaetaceae|g__Treponema|s__Treponema_maltophilum  \\\n",
       "Study_ID Sample Accession                                                                                                                           \n",
       "GMHI-23  SAMEA3879547                                                    0.0                                                                        \n",
       "\n",
       "                           k__Bacteria|p__Spirochaetes|c__Spirochaetia|o__Spirochaetales|f__Spirochaetaceae|g__Treponema|s__Treponema_medium  \\\n",
       "Study_ID Sample Accession                                                                                                                      \n",
       "GMHI-23  SAMEA3879547                                                    0.0                                                                   \n",
       "\n",
       "                           k__Bacteria|p__Spirochaetes|c__Spirochaetia|o__Spirochaetales|f__Spirochaetaceae|g__Treponema|s__Treponema_vincentii  \\\n",
       "Study_ID Sample Accession                                                                                                                         \n",
       "GMHI-23  SAMEA3879547                                                    0.0                                                                      \n",
       "\n",
       "                           k__Bacteria|p__Synergistetes|c__Synergistia|o__Synergistales|f__Synergistaceae|g__Acetomicrobium|s__Acetomicrobium_flavidum  \\\n",
       "Study_ID Sample Accession                                                                                                                                \n",
       "GMHI-23  SAMEA3879547                                                    0.0                                                                             \n",
       "\n",
       "                           k__Bacteria|p__Synergistetes|c__Synergistia|o__Synergistales|f__Synergistaceae|g__Cloacibacillus|s__Cloacibacillus_sp_An23  \\\n",
       "Study_ID Sample Accession                                                                                                                               \n",
       "GMHI-23  SAMEA3879547                                                    0.0                                                                            \n",
       "\n",
       "                           k__Bacteria|p__Tenericutes|c__Mollicutes|o__Acholeplasmatales|f__Acholeplasmataceae|g__Candidatus_Phytoplasma|s__Aster_yellows_witches_broom_phytoplasma  \\\n",
       "Study_ID Sample Accession                                                                                                                                                             \n",
       "GMHI-23  SAMEA3879547                                                    0.0                                                                                                          \n",
       "\n",
       "                           k__Bacteria|p__Tenericutes|c__Mollicutes|o__Mycoplasmatales|f__Mycoplasmataceae|g__Mycoplasma|s__Mycoplasma_bovis  \\\n",
       "Study_ID Sample Accession                                                                                                                      \n",
       "GMHI-23  SAMEA3879547                                                    0.0                                                                   \n",
       "\n",
       "                           k__Bacteria|p__Tenericutes|c__Mollicutes|o__Mycoplasmatales|f__Mycoplasmataceae|g__Mycoplasma|s__Mycoplasma_sp_HU2014  \\\n",
       "Study_ID Sample Accession                                                                                                                          \n",
       "GMHI-23  SAMEA3879547                                                    0.0                                                                       \n",
       "\n",
       "                            UNKNOWN  \n",
       "Study_ID Sample Accession            \n",
       "GMHI-23  SAMEA3879547      0.564516  \n",
       "\n",
       "[1 rows x 1392 columns]"
      ]
     },
     "execution_count": 7,
     "metadata": {},
     "output_type": "execute_result"
    }
   ],
   "source": [
    "X1 = X.iloc[[0], :]\n",
    "X1"
   ]
  },
  {
   "cell_type": "code",
   "execution_count": 8,
   "id": "56b69b37",
   "metadata": {},
   "outputs": [],
   "source": [
    "y1 = y.iloc[[0], :]"
   ]
  },
  {
   "cell_type": "code",
   "execution_count": 9,
   "id": "d2469e39",
   "metadata": {},
   "outputs": [
    {
     "data": {
      "text/html": [
       "<div>\n",
       "<style scoped>\n",
       "    .dataframe tbody tr th:only-of-type {\n",
       "        vertical-align: middle;\n",
       "    }\n",
       "\n",
       "    .dataframe tbody tr th {\n",
       "        vertical-align: top;\n",
       "    }\n",
       "\n",
       "    .dataframe thead th {\n",
       "        text-align: right;\n",
       "    }\n",
       "</style>\n",
       "<table border=\"1\" class=\"dataframe\">\n",
       "  <thead>\n",
       "    <tr style=\"text-align: right;\">\n",
       "      <th></th>\n",
       "      <th></th>\n",
       "      <th>PHENOTYPE:Healthy_Nonhealthy</th>\n",
       "    </tr>\n",
       "    <tr>\n",
       "      <th>Study_ID</th>\n",
       "      <th>Sample Accession</th>\n",
       "      <th></th>\n",
       "    </tr>\n",
       "  </thead>\n",
       "  <tbody>\n",
       "    <tr>\n",
       "      <th>GMHI-23</th>\n",
       "      <th>SAMEA3879547</th>\n",
       "      <td>True</td>\n",
       "    </tr>\n",
       "  </tbody>\n",
       "</table>\n",
       "</div>"
      ],
      "text/plain": [
       "                           PHENOTYPE:Healthy_Nonhealthy\n",
       "Study_ID Sample Accession                              \n",
       "GMHI-23  SAMEA3879547                              True"
      ]
     },
     "execution_count": 9,
     "metadata": {},
     "output_type": "execute_result"
    }
   ],
   "source": [
    "y1"
   ]
  },
  {
   "cell_type": "code",
   "execution_count": 15,
   "id": "f49a4183",
   "metadata": {},
   "outputs": [],
   "source": [
    "w = np.random.randn(1392)\n",
    "b = 0"
   ]
  },
  {
   "cell_type": "code",
   "execution_count": 17,
   "id": "6a66fced",
   "metadata": {},
   "outputs": [
    {
     "data": {
      "text/plain": [
       "Study_ID  Sample Accession\n",
       "GMHI-23   SAMEA3879547       -0.286963\n",
       "dtype: float64"
      ]
     },
     "execution_count": 17,
     "metadata": {},
     "output_type": "execute_result"
    }
   ],
   "source": [
    "def linear_forward(w, b, x):\n",
    "    return w @ x + b\n",
    "linear_forward(w, b, X1.T)"
   ]
  },
  {
   "cell_type": "code",
   "execution_count": 18,
   "id": "9866d383",
   "metadata": {},
   "outputs": [],
   "source": [
    "def linear_backward(w, b, x, y, dc_dy):\n",
    "    dc_dw = dc_dy * x\n",
    "    dc_dx = dc_dy * w\n",
    "    dc_db = dc_dy\n",
    "    return (dc_dw, dc_dx, dc_db)"
   ]
  },
  {
   "cell_type": "code",
   "execution_count": 19,
   "id": "d9d0c0b4",
   "metadata": {},
   "outputs": [],
   "source": [
    "def sigmoid(x):\n",
    "    return 1 / (1 + np.exp(-x))"
   ]
  },
  {
   "cell_type": "code",
   "execution_count": 20,
   "id": "f21d02c7",
   "metadata": {},
   "outputs": [],
   "source": [
    "def sigmoid_backward(x, dc_dy):\n",
    "    return (dc_dy * x * (1 - x))"
   ]
  },
  {
   "cell_type": "code",
   "execution_count": null,
   "id": "a5c89269",
   "metadata": {},
   "outputs": [],
   "source": [
    "def cost(y, y_hat):\n",
    "    return -y * np.log(y_hat) - (1 - y) * np.log(1 - y_hat)"
   ]
  }
 ],
 "metadata": {
  "kernelspec": {
   "display_name": "Python 3 (ipykernel)",
   "language": "python",
   "name": "python3"
  },
  "language_info": {
   "codemirror_mode": {
    "name": "ipython",
    "version": 3
   },
   "file_extension": ".py",
   "mimetype": "text/x-python",
   "name": "python",
   "nbconvert_exporter": "python",
   "pygments_lexer": "ipython3",
   "version": "3.7.9"
  }
 },
 "nbformat": 4,
 "nbformat_minor": 5
}
