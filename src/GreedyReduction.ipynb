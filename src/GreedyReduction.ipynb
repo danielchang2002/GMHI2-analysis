{
 "cells": [
  {
   "cell_type": "code",
   "execution_count": 1,
   "id": "e541f706",
   "metadata": {},
   "outputs": [],
   "source": [
    "import pandas as pd\n",
    "import numpy as np\n",
    "from utils import get_species, get_labels, get_labels_all"
   ]
  },
  {
   "cell_type": "code",
   "execution_count": 2,
   "id": "f8e3c13d",
   "metadata": {},
   "outputs": [],
   "source": [
    "X, y, y_all = get_species(), get_labels(), get_labels_all()"
   ]
  },
  {
   "cell_type": "code",
   "execution_count": 3,
   "id": "ecd17f1d",
   "metadata": {},
   "outputs": [],
   "source": [
    "from sklearn.model_selection import train_test_split\n",
    "from sklearn.linear_model import LogisticRegression\n",
    "from sklearn.metrics import balanced_accuracy_score, accuracy_score"
   ]
  },
  {
   "cell_type": "code",
   "execution_count": 4,
   "id": "5dd46967",
   "metadata": {},
   "outputs": [
    {
     "data": {
      "text/plain": [
       "array(['ACVD', 'Adenoma', 'Adenoma (MP)', 'Advanced Dementia',\n",
       "       'Behcet’s disease', 'Breast Cancer', 'CD', 'CRC', 'Cancer',\n",
       "       \"Crohn''s disease\", 'Crohns disease',\n",
       "       'End-stage renal disease (ESRD)', 'Graves’ disease', 'Healthy',\n",
       "       'Hypertension (HTN)', 'IGT', 'Large adenoma', 'Liver Cirrhosis',\n",
       "       'NAFLD', 'Non–small cell lung cancer (NSCLC)', 'Obese', 'Obesity',\n",
       "       'Overweight', 'Pancreatic cancer', 'Renal cell carcinoma (RCC)',\n",
       "       'Rheumatoid Arthritis', 'Rheumatoid arthritis', 'Small adenoma',\n",
       "       'T2D', 'Ulcerative colitis', 'Underweight', 'adenoma',\n",
       "       'advanced adenoma', 'ankylosing spondylitis', 'carcinoma',\n",
       "       'schizophrenia', 'ulcerative colitis'], dtype=object)"
      ]
     },
     "execution_count": 4,
     "metadata": {},
     "output_type": "execute_result"
    }
   ],
   "source": [
    "np.unique(y_all)"
   ]
  },
  {
   "cell_type": "code",
   "execution_count": 5,
   "id": "87b29404",
   "metadata": {},
   "outputs": [],
   "source": [
    "X = X[list(filter(lambda x : \"virus\" not in x and \"unclassified\" not in x, X.columns))]"
   ]
  },
  {
   "cell_type": "code",
   "execution_count": 31,
   "id": "3d43e30b",
   "metadata": {},
   "outputs": [],
   "source": [
    "bad_nonhealthies = ((y_all == \"Obesity\") | (y_all == \"Overweight\") | (y_all == \"Underweight\")).values\n",
    "X_red = X.iloc[~bad_nonhealthies, :]\n",
    "y_red = y.iloc[~bad_nonhealthies, :]\n",
    "y_all_red = y_all.iloc[~bad_nonhealthies, :]"
   ]
  },
  {
   "cell_type": "code",
   "execution_count": 6,
   "id": "2bd70c11",
   "metadata": {},
   "outputs": [
    {
     "name": "stderr",
     "output_type": "stream",
     "text": [
      "/Users/daniel/opt/anaconda3/envs/data/lib/python3.7/site-packages/sklearn/utils/validation.py:993: DataConversionWarning: A column-vector y was passed when a 1d array was expected. Please change the shape of y to (n_samples, ), for example using ravel().\n",
      "  y = column_or_1d(y, warn=True)\n"
     ]
    },
    {
     "data": {
      "text/plain": [
       "(0.6624740054365044, 0.6641404068607898)"
      ]
     },
     "execution_count": 6,
     "metadata": {},
     "output_type": "execute_result"
    }
   ],
   "source": [
    "c = 0.00001\n",
    "\n",
    "X_train, X_test, y_train, y_test = train_test_split(X, y, test_size=0.2, random_state=42)\n",
    "\n",
    "clf = LogisticRegression(random_state=42, penalty=\"l1\", solver=\"liblinear\", C=1, class_weight=\"balanced\")\n",
    "clf.fit(X_train > c, y_train)\n",
    "y_hat = clf.predict(X_test > c)\n",
    "balanced_accuracy_score(y_test, y_hat), accuracy_score(y_test, y_hat)"
   ]
  },
  {
   "cell_type": "code",
   "execution_count": 9,
   "id": "30fea6d7",
   "metadata": {},
   "outputs": [
    {
     "data": {
      "text/plain": [
       "['ACVD',\n",
       " 'Adenoma',\n",
       " 'Adenoma (MP)',\n",
       " 'Advanced Dementia',\n",
       " 'Behcet’s disease',\n",
       " 'Breast Cancer',\n",
       " 'CD',\n",
       " 'CRC',\n",
       " 'Cancer',\n",
       " \"Crohn''s disease\",\n",
       " 'Crohns disease',\n",
       " 'End-stage renal disease (ESRD)',\n",
       " 'Graves’ disease',\n",
       " 'Healthy',\n",
       " 'Hypertension (HTN)',\n",
       " 'IGT',\n",
       " 'Large adenoma',\n",
       " 'Liver Cirrhosis',\n",
       " 'NAFLD',\n",
       " 'Non–small cell lung cancer (NSCLC)',\n",
       " 'Obese',\n",
       " 'Obesity',\n",
       " 'Overweight',\n",
       " 'Pancreatic cancer',\n",
       " 'Renal cell carcinoma (RCC)',\n",
       " 'Rheumatoid Arthritis',\n",
       " 'Rheumatoid arthritis',\n",
       " 'Small adenoma',\n",
       " 'T2D',\n",
       " 'Ulcerative colitis',\n",
       " 'Underweight',\n",
       " 'adenoma',\n",
       " 'advanced adenoma',\n",
       " 'ankylosing spondylitis',\n",
       " 'carcinoma',\n",
       " 'schizophrenia',\n",
       " 'ulcerative colitis']"
      ]
     },
     "execution_count": 9,
     "metadata": {},
     "output_type": "execute_result"
    }
   ],
   "source": [
    "phenotype_list = list(np.unique(y_all))\n",
    "old_phenotype_list = list(np.unique(y_all))\n",
    "phenotype_list"
   ]
  },
  {
   "cell_type": "code",
   "execution_count": 10,
   "id": "96d4b074",
   "metadata": {
    "scrolled": false
   },
   "outputs": [
    {
     "name": "stderr",
     "output_type": "stream",
     "text": [
      "100%|███████████████████████████████████████████████████████████████| 37/37 [00:35<00:00,  1.04it/s]\n"
     ]
    },
    {
     "name": "stdout",
     "output_type": "stream",
     "text": [
      "best score: 0.7001078021829942\n",
      "Removed phenotypes: ['Overweight']\n"
     ]
    },
    {
     "name": "stderr",
     "output_type": "stream",
     "text": [
      "100%|███████████████████████████████████████████████████████████████| 36/36 [00:28<00:00,  1.24it/s]\n"
     ]
    },
    {
     "name": "stdout",
     "output_type": "stream",
     "text": [
      "best score: 0.7456869136587693\n",
      "Removed phenotypes: ['Overweight', 'Obesity']\n"
     ]
    },
    {
     "name": "stderr",
     "output_type": "stream",
     "text": [
      "100%|███████████████████████████████████████████████████████████████| 35/35 [00:44<00:00,  1.26s/it]\n"
     ]
    },
    {
     "name": "stdout",
     "output_type": "stream",
     "text": [
      "best score: 0.7542838249669369\n",
      "Removed phenotypes: ['Overweight', 'Obesity', 'Underweight']\n"
     ]
    },
    {
     "name": "stderr",
     "output_type": "stream",
     "text": [
      "100%|███████████████████████████████████████████████████████████████| 34/34 [00:40<00:00,  1.18s/it]\n"
     ]
    },
    {
     "name": "stdout",
     "output_type": "stream",
     "text": [
      "best score: 0.7726714901207119\n",
      "Removed phenotypes: ['Overweight', 'Obesity', 'Underweight', 'T2D']\n"
     ]
    },
    {
     "name": "stderr",
     "output_type": "stream",
     "text": [
      "100%|███████████████████████████████████████████████████████████████| 33/33 [00:39<00:00,  1.21s/it]\n"
     ]
    },
    {
     "name": "stdout",
     "output_type": "stream",
     "text": [
      "best score: 0.7653957853866266\n",
      "Removed phenotypes: ['Overweight', 'Obesity', 'Underweight', 'T2D', \"Crohn''s disease\"]\n"
     ]
    },
    {
     "name": "stderr",
     "output_type": "stream",
     "text": [
      "100%|███████████████████████████████████████████████████████████████| 32/32 [00:34<00:00,  1.09s/it]\n"
     ]
    },
    {
     "name": "stdout",
     "output_type": "stream",
     "text": [
      "best score: 0.7734295845997974\n",
      "Removed phenotypes: ['Overweight', 'Obesity', 'Underweight', 'T2D', \"Crohn''s disease\", 'ACVD']\n"
     ]
    },
    {
     "name": "stderr",
     "output_type": "stream",
     "text": [
      "100%|███████████████████████████████████████████████████████████████| 31/31 [00:29<00:00,  1.07it/s]\n"
     ]
    },
    {
     "name": "stdout",
     "output_type": "stream",
     "text": [
      "best score: 0.772427828130245\n",
      "Removed phenotypes: ['Overweight', 'Obesity', 'Underweight', 'T2D', \"Crohn''s disease\", 'ACVD', 'Ulcerative colitis']\n"
     ]
    },
    {
     "name": "stderr",
     "output_type": "stream",
     "text": [
      "100%|███████████████████████████████████████████████████████████████| 30/30 [00:18<00:00,  1.59it/s]\n"
     ]
    },
    {
     "name": "stdout",
     "output_type": "stream",
     "text": [
      "best score: 0.7948778314799171\n",
      "Removed phenotypes: ['Overweight', 'Obesity', 'Underweight', 'T2D', \"Crohn''s disease\", 'ACVD', 'Ulcerative colitis', 'IGT']\n"
     ]
    },
    {
     "name": "stderr",
     "output_type": "stream",
     "text": [
      " 55%|██████████████████████████████████▊                            | 16/29 [00:11<00:09,  1.34it/s]\n"
     ]
    },
    {
     "ename": "KeyboardInterrupt",
     "evalue": "",
     "output_type": "error",
     "traceback": [
      "\u001b[0;31m---------------------------------------------------------------------------\u001b[0m",
      "\u001b[0;31mKeyboardInterrupt\u001b[0m                         Traceback (most recent call last)",
      "\u001b[0;32m/var/folders/w8/85y9rkfs49x53d7kk_ql70bc0000gn/T/ipykernel_1975/1899286643.py\u001b[0m in \u001b[0;36m<module>\u001b[0;34m\u001b[0m\n\u001b[1;32m     21\u001b[0m \u001b[0;34m\u001b[0m\u001b[0m\n\u001b[1;32m     22\u001b[0m         \u001b[0mclf\u001b[0m \u001b[0;34m=\u001b[0m \u001b[0mLogisticRegression\u001b[0m\u001b[0;34m(\u001b[0m\u001b[0mrandom_state\u001b[0m\u001b[0;34m=\u001b[0m\u001b[0;36m42\u001b[0m\u001b[0;34m,\u001b[0m \u001b[0mpenalty\u001b[0m\u001b[0;34m=\u001b[0m\u001b[0;34m\"l1\"\u001b[0m\u001b[0;34m,\u001b[0m \u001b[0msolver\u001b[0m\u001b[0;34m=\u001b[0m\u001b[0;34m\"liblinear\"\u001b[0m\u001b[0;34m,\u001b[0m \u001b[0mC\u001b[0m\u001b[0;34m=\u001b[0m\u001b[0;36m1\u001b[0m\u001b[0;34m,\u001b[0m \u001b[0mclass_weight\u001b[0m\u001b[0;34m=\u001b[0m\u001b[0;34m\"balanced\"\u001b[0m\u001b[0;34m)\u001b[0m\u001b[0;34m\u001b[0m\u001b[0;34m\u001b[0m\u001b[0m\n\u001b[0;32m---> 23\u001b[0;31m         \u001b[0mclf\u001b[0m\u001b[0;34m.\u001b[0m\u001b[0mfit\u001b[0m\u001b[0;34m(\u001b[0m\u001b[0mX_train\u001b[0m \u001b[0;34m>\u001b[0m \u001b[0mc\u001b[0m\u001b[0;34m,\u001b[0m \u001b[0my_train\u001b[0m\u001b[0;34m.\u001b[0m\u001b[0mvalues\u001b[0m\u001b[0;34m.\u001b[0m\u001b[0mflatten\u001b[0m\u001b[0;34m(\u001b[0m\u001b[0;34m)\u001b[0m\u001b[0;34m)\u001b[0m\u001b[0;34m\u001b[0m\u001b[0;34m\u001b[0m\u001b[0m\n\u001b[0m\u001b[1;32m     24\u001b[0m         \u001b[0my_hat\u001b[0m \u001b[0;34m=\u001b[0m \u001b[0mclf\u001b[0m\u001b[0;34m.\u001b[0m\u001b[0mpredict\u001b[0m\u001b[0;34m(\u001b[0m\u001b[0mX_test\u001b[0m \u001b[0;34m>\u001b[0m \u001b[0mc\u001b[0m\u001b[0;34m)\u001b[0m\u001b[0;34m\u001b[0m\u001b[0;34m\u001b[0m\u001b[0m\n\u001b[1;32m     25\u001b[0m         \u001b[0mscore\u001b[0m \u001b[0;34m=\u001b[0m \u001b[0mbalanced_accuracy_score\u001b[0m\u001b[0;34m(\u001b[0m\u001b[0my_test\u001b[0m\u001b[0;34m,\u001b[0m \u001b[0my_hat\u001b[0m\u001b[0;34m)\u001b[0m\u001b[0;34m\u001b[0m\u001b[0;34m\u001b[0m\u001b[0m\n",
      "\u001b[0;32m~/opt/anaconda3/envs/data/lib/python3.7/site-packages/sklearn/linear_model/_logistic.py\u001b[0m in \u001b[0;36mfit\u001b[0;34m(self, X, y, sample_weight)\u001b[0m\n\u001b[1;32m   1512\u001b[0m             \u001b[0mdtype\u001b[0m\u001b[0;34m=\u001b[0m\u001b[0m_dtype\u001b[0m\u001b[0;34m,\u001b[0m\u001b[0;34m\u001b[0m\u001b[0;34m\u001b[0m\u001b[0m\n\u001b[1;32m   1513\u001b[0m             \u001b[0morder\u001b[0m\u001b[0;34m=\u001b[0m\u001b[0;34m\"C\"\u001b[0m\u001b[0;34m,\u001b[0m\u001b[0;34m\u001b[0m\u001b[0;34m\u001b[0m\u001b[0m\n\u001b[0;32m-> 1514\u001b[0;31m             \u001b[0maccept_large_sparse\u001b[0m\u001b[0;34m=\u001b[0m\u001b[0msolver\u001b[0m \u001b[0;32mnot\u001b[0m \u001b[0;32min\u001b[0m \u001b[0;34m[\u001b[0m\u001b[0;34m\"liblinear\"\u001b[0m\u001b[0;34m,\u001b[0m \u001b[0;34m\"sag\"\u001b[0m\u001b[0;34m,\u001b[0m \u001b[0;34m\"saga\"\u001b[0m\u001b[0;34m]\u001b[0m\u001b[0;34m,\u001b[0m\u001b[0;34m\u001b[0m\u001b[0;34m\u001b[0m\u001b[0m\n\u001b[0m\u001b[1;32m   1515\u001b[0m         )\n\u001b[1;32m   1516\u001b[0m         \u001b[0mcheck_classification_targets\u001b[0m\u001b[0;34m(\u001b[0m\u001b[0my\u001b[0m\u001b[0;34m)\u001b[0m\u001b[0;34m\u001b[0m\u001b[0;34m\u001b[0m\u001b[0m\n",
      "\u001b[0;32m~/opt/anaconda3/envs/data/lib/python3.7/site-packages/sklearn/base.py\u001b[0m in \u001b[0;36m_validate_data\u001b[0;34m(self, X, y, reset, validate_separately, **check_params)\u001b[0m\n\u001b[1;32m    579\u001b[0m                 \u001b[0my\u001b[0m \u001b[0;34m=\u001b[0m \u001b[0mcheck_array\u001b[0m\u001b[0;34m(\u001b[0m\u001b[0my\u001b[0m\u001b[0;34m,\u001b[0m \u001b[0;34m**\u001b[0m\u001b[0mcheck_y_params\u001b[0m\u001b[0;34m)\u001b[0m\u001b[0;34m\u001b[0m\u001b[0;34m\u001b[0m\u001b[0m\n\u001b[1;32m    580\u001b[0m             \u001b[0;32melse\u001b[0m\u001b[0;34m:\u001b[0m\u001b[0;34m\u001b[0m\u001b[0;34m\u001b[0m\u001b[0m\n\u001b[0;32m--> 581\u001b[0;31m                 \u001b[0mX\u001b[0m\u001b[0;34m,\u001b[0m \u001b[0my\u001b[0m \u001b[0;34m=\u001b[0m \u001b[0mcheck_X_y\u001b[0m\u001b[0;34m(\u001b[0m\u001b[0mX\u001b[0m\u001b[0;34m,\u001b[0m \u001b[0my\u001b[0m\u001b[0;34m,\u001b[0m \u001b[0;34m**\u001b[0m\u001b[0mcheck_params\u001b[0m\u001b[0;34m)\u001b[0m\u001b[0;34m\u001b[0m\u001b[0;34m\u001b[0m\u001b[0m\n\u001b[0m\u001b[1;32m    582\u001b[0m             \u001b[0mout\u001b[0m \u001b[0;34m=\u001b[0m \u001b[0mX\u001b[0m\u001b[0;34m,\u001b[0m \u001b[0my\u001b[0m\u001b[0;34m\u001b[0m\u001b[0;34m\u001b[0m\u001b[0m\n\u001b[1;32m    583\u001b[0m \u001b[0;34m\u001b[0m\u001b[0m\n",
      "\u001b[0;32m~/opt/anaconda3/envs/data/lib/python3.7/site-packages/sklearn/utils/validation.py\u001b[0m in \u001b[0;36mcheck_X_y\u001b[0;34m(X, y, accept_sparse, accept_large_sparse, dtype, order, copy, force_all_finite, ensure_2d, allow_nd, multi_output, ensure_min_samples, ensure_min_features, y_numeric, estimator)\u001b[0m\n\u001b[1;32m    974\u001b[0m         \u001b[0mensure_min_samples\u001b[0m\u001b[0;34m=\u001b[0m\u001b[0mensure_min_samples\u001b[0m\u001b[0;34m,\u001b[0m\u001b[0;34m\u001b[0m\u001b[0;34m\u001b[0m\u001b[0m\n\u001b[1;32m    975\u001b[0m         \u001b[0mensure_min_features\u001b[0m\u001b[0;34m=\u001b[0m\u001b[0mensure_min_features\u001b[0m\u001b[0;34m,\u001b[0m\u001b[0;34m\u001b[0m\u001b[0;34m\u001b[0m\u001b[0m\n\u001b[0;32m--> 976\u001b[0;31m         \u001b[0mestimator\u001b[0m\u001b[0;34m=\u001b[0m\u001b[0mestimator\u001b[0m\u001b[0;34m,\u001b[0m\u001b[0;34m\u001b[0m\u001b[0;34m\u001b[0m\u001b[0m\n\u001b[0m\u001b[1;32m    977\u001b[0m     )\n\u001b[1;32m    978\u001b[0m \u001b[0;34m\u001b[0m\u001b[0m\n",
      "\u001b[0;32m~/opt/anaconda3/envs/data/lib/python3.7/site-packages/sklearn/utils/validation.py\u001b[0m in \u001b[0;36mcheck_array\u001b[0;34m(array, accept_sparse, accept_large_sparse, dtype, order, copy, force_all_finite, ensure_2d, allow_nd, ensure_min_samples, ensure_min_features, estimator)\u001b[0m\n\u001b[1;32m    744\u001b[0m                     \u001b[0marray\u001b[0m \u001b[0;34m=\u001b[0m \u001b[0marray\u001b[0m\u001b[0;34m.\u001b[0m\u001b[0mastype\u001b[0m\u001b[0;34m(\u001b[0m\u001b[0mdtype\u001b[0m\u001b[0;34m,\u001b[0m \u001b[0mcasting\u001b[0m\u001b[0;34m=\u001b[0m\u001b[0;34m\"unsafe\"\u001b[0m\u001b[0;34m,\u001b[0m \u001b[0mcopy\u001b[0m\u001b[0;34m=\u001b[0m\u001b[0;32mFalse\u001b[0m\u001b[0;34m)\u001b[0m\u001b[0;34m\u001b[0m\u001b[0;34m\u001b[0m\u001b[0m\n\u001b[1;32m    745\u001b[0m                 \u001b[0;32melse\u001b[0m\u001b[0;34m:\u001b[0m\u001b[0;34m\u001b[0m\u001b[0;34m\u001b[0m\u001b[0m\n\u001b[0;32m--> 746\u001b[0;31m                     \u001b[0marray\u001b[0m \u001b[0;34m=\u001b[0m \u001b[0mnp\u001b[0m\u001b[0;34m.\u001b[0m\u001b[0masarray\u001b[0m\u001b[0;34m(\u001b[0m\u001b[0marray\u001b[0m\u001b[0;34m,\u001b[0m \u001b[0morder\u001b[0m\u001b[0;34m=\u001b[0m\u001b[0morder\u001b[0m\u001b[0;34m,\u001b[0m \u001b[0mdtype\u001b[0m\u001b[0;34m=\u001b[0m\u001b[0mdtype\u001b[0m\u001b[0;34m)\u001b[0m\u001b[0;34m\u001b[0m\u001b[0;34m\u001b[0m\u001b[0m\n\u001b[0m\u001b[1;32m    747\u001b[0m             \u001b[0;32mexcept\u001b[0m \u001b[0mComplexWarning\u001b[0m \u001b[0;32mas\u001b[0m \u001b[0mcomplex_warning\u001b[0m\u001b[0;34m:\u001b[0m\u001b[0;34m\u001b[0m\u001b[0;34m\u001b[0m\u001b[0m\n\u001b[1;32m    748\u001b[0m                 raise ValueError(\n",
      "\u001b[0;31mKeyboardInterrupt\u001b[0m: "
     ]
    }
   ],
   "source": [
    "from tqdm import tqdm\n",
    "\n",
    "removed_list = []\n",
    "\n",
    "while phenotype_list != []:\n",
    "    best_phenotype_list = []\n",
    "    best_score = -1\n",
    "    best_removed = None\n",
    "    for i in tqdm(range(len(phenotype_list))):\n",
    "        removed = phenotype_list[i]\n",
    "        if removed == \"Healthy\":\n",
    "            continue\n",
    "        curr_phenotype_list = phenotype_list[:i] + phenotype_list[i + 1:]\n",
    "        index = y_all.isin(curr_phenotype_list)\n",
    "        X_curr = X.iloc[index.values, :]\n",
    "        y_curr = y.iloc[index.values, :]\n",
    "        \n",
    "        c = 0.00001\n",
    "\n",
    "        X_train, X_test, y_train, y_test = train_test_split(X_curr, y_curr, test_size=0.2, random_state=42)\n",
    "\n",
    "        clf = LogisticRegression(random_state=42, penalty=\"l1\", solver=\"liblinear\", C=1, class_weight=\"balanced\")\n",
    "        clf.fit(X_train > c, y_train.values.flatten())\n",
    "        y_hat = clf.predict(X_test > c)\n",
    "        score = balanced_accuracy_score(y_test, y_hat)\n",
    "        \n",
    "        if score > best_score:\n",
    "            best_score = score\n",
    "            best_phenotype_list = curr_phenotype_list\n",
    "            best_removed = removed\n",
    "    removed_list.append(best_removed)\n",
    "    phenotype_list = best_phenotype_list\n",
    "    print(\"best score:\", best_score)\n",
    "    print(\"Removed phenotypes:\", removed_list)"
   ]
  },
  {
   "cell_type": "code",
   "execution_count": null,
   "id": "42644a5e",
   "metadata": {},
   "outputs": [],
   "source": []
  }
 ],
 "metadata": {
  "kernelspec": {
   "display_name": "Python 3 (ipykernel)",
   "language": "python",
   "name": "python3"
  },
  "language_info": {
   "codemirror_mode": {
    "name": "ipython",
    "version": 3
   },
   "file_extension": ".py",
   "mimetype": "text/x-python",
   "name": "python",
   "nbconvert_exporter": "python",
   "pygments_lexer": "ipython3",
   "version": "3.7.9"
  }
 },
 "nbformat": 4,
 "nbformat_minor": 5
}
