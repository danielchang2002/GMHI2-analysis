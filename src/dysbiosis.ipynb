{
 "cells": [
  {
   "cell_type": "code",
   "execution_count": 1,
   "id": "853b9587",
   "metadata": {},
   "outputs": [],
   "source": [
    "import pandas as pd\n",
    "import numpy as np\n",
    "from utils import get_species, get_labels, get_labels_all"
   ]
  },
  {
   "cell_type": "code",
   "execution_count": 2,
   "id": "ca0f89c6",
   "metadata": {},
   "outputs": [],
   "source": [
    "X = get_species()\n",
    "y = get_labels()\n",
    "y_all = get_labels_all()"
   ]
  },
  {
   "cell_type": "code",
   "execution_count": 3,
   "id": "e97c1f2a",
   "metadata": {},
   "outputs": [],
   "source": [
    "X = X[list(filter(lambda x : \"virus\" not in x, X.columns))]"
   ]
  },
  {
   "cell_type": "code",
   "execution_count": 4,
   "id": "75ec5e71",
   "metadata": {},
   "outputs": [],
   "source": [
    "weights = ((y_all == \"Obesity\") | (y_all == \"Overweight\") | (y_all == \"Underweight\")).values"
   ]
  },
  {
   "cell_type": "code",
   "execution_count": 5,
   "id": "1cc5962d",
   "metadata": {},
   "outputs": [],
   "source": [
    "X_red, y_red = X.iloc[~weights, :], y.iloc[~weights, :]"
   ]
  },
  {
   "cell_type": "code",
   "execution_count": null,
   "id": "25ce706c",
   "metadata": {},
   "outputs": [],
   "source": []
  }
 ],
 "metadata": {
  "kernelspec": {
   "display_name": "Python 3 (ipykernel)",
   "language": "python",
   "name": "python3"
  },
  "language_info": {
   "codemirror_mode": {
    "name": "ipython",
    "version": 3
   },
   "file_extension": ".py",
   "mimetype": "text/x-python",
   "name": "python",
   "nbconvert_exporter": "python",
   "pygments_lexer": "ipython3",
   "version": "3.7.9"
  }
 },
 "nbformat": 4,
 "nbformat_minor": 5
}
