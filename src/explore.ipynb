{
 "cells": [
  {
   "cell_type": "code",
   "execution_count": 1,
   "id": "ca87c30a",
   "metadata": {},
   "outputs": [],
   "source": [
    "import pandas as pd\n",
    "import numpy as np\n",
    "from utils import get_species, get_labels, get_labels_all"
   ]
  },
  {
   "cell_type": "code",
   "execution_count": 2,
   "id": "9114bacc",
   "metadata": {},
   "outputs": [],
   "source": [
    "X, y, y_all = get_species(), get_labels(), get_labels_all()"
   ]
  },
  {
   "cell_type": "code",
   "execution_count": 3,
   "id": "addf2ed1",
   "metadata": {},
   "outputs": [
    {
     "data": {
      "text/plain": [
       "array(['GMHI-10', 'GMHI-11', 'GMHI-13', 'GMHI-14', 'GMHI-15', 'GMHI-17',\n",
       "       'GMHI-19', 'GMHI-2', 'GMHI-21', 'GMHI-23', 'GMHI-24', 'GMHI-26',\n",
       "       'GMHI-27', 'GMHI-28', 'GMHI-3', 'GMHI-31', 'GMHI-32', 'GMHI-33',\n",
       "       'GMHI-4', 'GMHI-5', 'GMHI-9', 'GMHI-V-35', 'GMHI-V-36',\n",
       "       'GMHI-V-38', 'GMHI-V-40', 'GMHI-V-41', 'P103', 'P107', 'P11',\n",
       "       'P110', 'P113', 'P121', 'P13', 'P132', 'P133', 'P135', 'P136',\n",
       "       'P140', 'P15', 'P17', 'P2', 'P21', 'P24', 'P32', 'P34', 'P39',\n",
       "       'P4', 'P47', 'P48', 'P53', 'P56', 'P57', 'P59', 'P63', 'P69',\n",
       "       'P74', 'P76', 'P77', 'P8', 'P80', 'P81', 'P86', 'P87', 'P88',\n",
       "       'P89', 'P9', 'P94', 'P95', 'P96', 'P98'], dtype=object)"
      ]
     },
     "execution_count": 3,
     "metadata": {},
     "output_type": "execute_result"
    }
   ],
   "source": [
    "studies = np.unique(X.index.get_level_values(0))\n",
    "studies"
   ]
  },
  {
   "cell_type": "code",
   "execution_count": 18,
   "id": "2e1b8218",
   "metadata": {},
   "outputs": [
    {
     "data": {
      "text/plain": [
       "542"
      ]
     },
     "execution_count": 18,
     "metadata": {},
     "output_type": "execute_result"
    }
   ],
   "source": [
    "((X > 0.00001).mean(axis=0) > 0.01).sum()"
   ]
  }
 ],
 "metadata": {
  "kernelspec": {
   "display_name": "Python 3 (ipykernel)",
   "language": "python",
   "name": "python3"
  },
  "language_info": {
   "codemirror_mode": {
    "name": "ipython",
    "version": 3
   },
   "file_extension": ".py",
   "mimetype": "text/x-python",
   "name": "python",
   "nbconvert_exporter": "python",
   "pygments_lexer": "ipython3",
   "version": "3.7.9"
  }
 },
 "nbformat": 4,
 "nbformat_minor": 5
}
