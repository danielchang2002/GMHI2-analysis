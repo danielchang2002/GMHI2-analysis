{
 "cells": [
  {
   "cell_type": "code",
   "execution_count": 1,
   "id": "8bec0f66",
   "metadata": {},
   "outputs": [],
   "source": [
    "import pandas as pd\n",
    "import numpy as np\n",
    "from utils import get_species, get_labels, get_labels_all"
   ]
  },
  {
   "cell_type": "code",
   "execution_count": 2,
   "id": "da4ad649",
   "metadata": {},
   "outputs": [],
   "source": [
    "X, y, y_all = get_species(), get_labels(), get_labels_all()"
   ]
  },
  {
   "cell_type": "code",
   "execution_count": 3,
   "id": "94e4d518",
   "metadata": {},
   "outputs": [],
   "source": [
    "X = X[list(filter(lambda x : \"virus\" not in x and \"unclassified\" not in x, X.columns))]"
   ]
  },
  {
   "cell_type": "code",
   "execution_count": 5,
   "id": "ddce0974",
   "metadata": {},
   "outputs": [],
   "source": [
    "weights = ((y_all == \"Underweight\") | (y_all == \"Overweight\") | (y_all == \"Obesity\")).values"
   ]
  },
  {
   "cell_type": "code",
   "execution_count": null,
   "id": "2b6e65ac",
   "metadata": {},
   "outputs": [],
   "source": []
  }
 ],
 "metadata": {
  "kernelspec": {
   "display_name": "Python 3 (ipykernel)",
   "language": "python",
   "name": "python3"
  },
  "language_info": {
   "codemirror_mode": {
    "name": "ipython",
    "version": 3
   },
   "file_extension": ".py",
   "mimetype": "text/x-python",
   "name": "python",
   "nbconvert_exporter": "python",
   "pygments_lexer": "ipython3",
   "version": "3.7.12"
  }
 },
 "nbformat": 4,
 "nbformat_minor": 5
}
