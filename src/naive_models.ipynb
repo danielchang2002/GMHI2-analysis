{
 "cells": [
  {
   "cell_type": "code",
   "execution_count": 1,
   "id": "d306f5c7",
   "metadata": {},
   "outputs": [],
   "source": [
    "import pandas as pd\n",
    "import numpy as np\n",
    "from utils import get_species, get_labels, get_labels_all"
   ]
  },
  {
   "cell_type": "code",
   "execution_count": 2,
   "id": "86c74b17",
   "metadata": {},
   "outputs": [],
   "source": [
    "X, y, y_all = get_species(), get_labels(), get_labels_all()"
   ]
  },
  {
   "cell_type": "code",
   "execution_count": 3,
   "id": "a7c67ffa",
   "metadata": {},
   "outputs": [],
   "source": [
    "X = X[list(filter(lambda x : \"virus\" not in x and \"unclassified\" not in x, X.columns))]"
   ]
  },
  {
   "cell_type": "code",
   "execution_count": 4,
   "id": "8b317384",
   "metadata": {},
   "outputs": [
    {
     "data": {
      "text/plain": [
       "array([[False],\n",
       "       [False],\n",
       "       [False],\n",
       "       ...,\n",
       "       [ True],\n",
       "       [ True],\n",
       "       [ True]])"
      ]
     },
     "execution_count": 4,
     "metadata": {},
     "output_type": "execute_result"
    }
   ],
   "source": [
    "weights = ((y_all == \"T2D\") | (y_all == \"Obesity\") | (y_all == \"Overweight\") | (y_all == \"Underweight\")).values\n",
    "weights"
   ]
  },
  {
   "cell_type": "code",
   "execution_count": 11,
   "id": "9f3cc949",
   "metadata": {},
   "outputs": [
    {
     "data": {
      "text/html": [
       "<div>\n",
       "<style scoped>\n",
       "    .dataframe tbody tr th:only-of-type {\n",
       "        vertical-align: middle;\n",
       "    }\n",
       "\n",
       "    .dataframe tbody tr th {\n",
       "        vertical-align: top;\n",
       "    }\n",
       "\n",
       "    .dataframe thead th {\n",
       "        text-align: right;\n",
       "    }\n",
       "</style>\n",
       "<table border=\"1\" class=\"dataframe\">\n",
       "  <thead>\n",
       "    <tr style=\"text-align: right;\">\n",
       "      <th></th>\n",
       "      <th></th>\n",
       "      <th>Sequencing Platform</th>\n",
       "    </tr>\n",
       "    <tr>\n",
       "      <th>Study_ID</th>\n",
       "      <th>Sample Accession</th>\n",
       "      <th></th>\n",
       "    </tr>\n",
       "  </thead>\n",
       "  <tbody>\n",
       "    <tr>\n",
       "      <th rowspan=\"5\" valign=\"top\">GMHI-23</th>\n",
       "      <th>SAMEA3879547</th>\n",
       "      <td>Illumina HiSeq 2000</td>\n",
       "    </tr>\n",
       "    <tr>\n",
       "      <th>SAMEA3879551</th>\n",
       "      <td>Illumina HiSeq 2000</td>\n",
       "    </tr>\n",
       "    <tr>\n",
       "      <th>SAMEA3879543</th>\n",
       "      <td>Illumina HiSeq 2000</td>\n",
       "    </tr>\n",
       "    <tr>\n",
       "      <th>SAMEA3879565</th>\n",
       "      <td>Illumina HiSeq 2000</td>\n",
       "    </tr>\n",
       "    <tr>\n",
       "      <th>SAMEA3879546</th>\n",
       "      <td>Illumina HiSeq 2000</td>\n",
       "    </tr>\n",
       "    <tr>\n",
       "      <th>...</th>\n",
       "      <th>...</th>\n",
       "      <td>...</td>\n",
       "    </tr>\n",
       "    <tr>\n",
       "      <th rowspan=\"3\" valign=\"top\">GMHI-17</th>\n",
       "      <th>SAMEA2737871</th>\n",
       "      <td>Illumina HiSeq 2000</td>\n",
       "    </tr>\n",
       "    <tr>\n",
       "      <th>SAMEA2737819</th>\n",
       "      <td>Illumina HiSeq 2000</td>\n",
       "    </tr>\n",
       "    <tr>\n",
       "      <th>SAMEA2737851</th>\n",
       "      <td>Illumina HiSeq 2000</td>\n",
       "    </tr>\n",
       "    <tr>\n",
       "      <th>GMHI-V-38</th>\n",
       "      <th>SAMD00114974</th>\n",
       "      <td>Illumina HiSeq 2500</td>\n",
       "    </tr>\n",
       "    <tr>\n",
       "      <th>GMHI-3</th>\n",
       "      <th>SAMEA2466888</th>\n",
       "      <td>Illumina HiSeq 2000</td>\n",
       "    </tr>\n",
       "  </tbody>\n",
       "</table>\n",
       "<p>12532 rows × 1 columns</p>\n",
       "</div>"
      ],
      "text/plain": [
       "                            Sequencing Platform\n",
       "Study_ID  Sample Accession                     \n",
       "GMHI-23   SAMEA3879547      Illumina HiSeq 2000\n",
       "          SAMEA3879551      Illumina HiSeq 2000\n",
       "          SAMEA3879543      Illumina HiSeq 2000\n",
       "          SAMEA3879565      Illumina HiSeq 2000\n",
       "          SAMEA3879546      Illumina HiSeq 2000\n",
       "...                                         ...\n",
       "GMHI-17   SAMEA2737871      Illumina HiSeq 2000\n",
       "          SAMEA2737819      Illumina HiSeq 2000\n",
       "          SAMEA2737851      Illumina HiSeq 2000\n",
       "GMHI-V-38 SAMD00114974      Illumina HiSeq 2500\n",
       "GMHI-3    SAMEA2466888      Illumina HiSeq 2000\n",
       "\n",
       "[12532 rows x 1 columns]"
      ]
     },
     "execution_count": 11,
     "metadata": {},
     "output_type": "execute_result"
    }
   ],
   "source": [
    "seq = pd.read_csv(\"../data/seq.csv\", index_col=[0, 1])\n",
    "seq"
   ]
  },
  {
   "cell_type": "code",
   "execution_count": 12,
   "id": "b0e72ca7",
   "metadata": {},
   "outputs": [],
   "source": [
    "X_red, y_red, y_all_red, seq_red = X.iloc[~weights, :], y.iloc[~weights, :], y_all.iloc[~weights, :], seq.iloc[~weights, :]\n",
    "# X_red, y_red, y_all_red = X, y, y_all"
   ]
  },
  {
   "cell_type": "code",
   "execution_count": 13,
   "id": "c9731dde",
   "metadata": {},
   "outputs": [],
   "source": [
    "from sklearn.model_selection import train_test_split\n",
    "X_train, X_test, y_train, y_test, seq_train, seq_test = train_test_split(X_red, y_red, seq_red, test_size=0.2, random_state=42)"
   ]
  },
  {
   "cell_type": "code",
   "execution_count": 14,
   "id": "ab4bab92",
   "metadata": {},
   "outputs": [],
   "source": [
    "# np.random.seed(42)\n",
    "\n",
    "# studies = np.unique(X_red.index.get_level_values(0))\n",
    "# shuffle = np.random.permutation(np.arange(len(studies)))\n",
    "# test = studies[shuffle[:len(studies) // 5]]\n",
    "# train = studies[shuffle[len(studies) // 5:]]\n",
    "\n",
    "# X_train, X_test, y_train, y_test = X_red.loc[train], X_red.loc[test], y_red.loc[train], y_red.loc[test]"
   ]
  },
  {
   "cell_type": "code",
   "execution_count": 15,
   "id": "9cbf712b",
   "metadata": {},
   "outputs": [],
   "source": [
    "from sklearn.preprocessing import MinMaxScaler\n",
    "\n",
    "c = 0.00001\n",
    "# minmax = MinMaxScaler()\n",
    "# X_train_scaled = minmax.fit_transform(np.log(X_train + c))\n",
    "# X_test_scaled = minmax.transform(np.log(X_test + c))\n",
    "X_train_scaled = X_train > c\n",
    "X_test_scaled = X_test > c"
   ]
  },
  {
   "cell_type": "code",
   "execution_count": 28,
   "id": "eb17bd8e",
   "metadata": {},
   "outputs": [
    {
     "data": {
      "text/plain": [
       "(7728, 1407)"
      ]
     },
     "execution_count": 28,
     "metadata": {},
     "output_type": "execute_result"
    }
   ],
   "source": [
    "from sklearn.preprocessing import OneHotEncoder\n",
    "\n",
    "oh = OneHotEncoder(sparse=False)\n",
    "\n",
    "X_train_scaled2 = np.hstack([X_train_scaled, oh.fit_transform(seq_train)])\n",
    "X_test_scaled2 = np.hstack([X_test_scaled, oh.transform(seq_test)])\n",
    "X_train_scaled2.shape"
   ]
  },
  {
   "cell_type": "code",
   "execution_count": 29,
   "id": "db98099a",
   "metadata": {},
   "outputs": [
    {
     "name": "stderr",
     "output_type": "stream",
     "text": [
      "/Users/daniel/opt/anaconda3/envs/xgboost/lib/python3.7/site-packages/sklearn/utils/validation.py:993: DataConversionWarning: A column-vector y was passed when a 1d array was expected. Please change the shape of y to (n_samples, ), for example using ravel().\n",
      "  y = column_or_1d(y, warn=True)\n"
     ]
    },
    {
     "data": {
      "text/plain": [
       "(0.7726714901207119, 0.7718572167615106)"
      ]
     },
     "execution_count": 29,
     "metadata": {},
     "output_type": "execute_result"
    }
   ],
   "source": [
    "from sklearn.linear_model import LogisticRegression\n",
    "from sklearn.metrics import balanced_accuracy_score, accuracy_score\n",
    "\n",
    "clf = LogisticRegression(random_state=42, penalty=\"l1\", solver=\"liblinear\", C=1, class_weight=\"balanced\")\n",
    "clf.fit(X_train_scaled, y_train)\n",
    "y_hat = clf.predict(X_test_scaled)\n",
    "balanced_accuracy_score(y_test, y_hat), accuracy_score(y_test, y_hat)"
   ]
  },
  {
   "cell_type": "code",
   "execution_count": 79,
   "id": "e63adb6e",
   "metadata": {},
   "outputs": [
    {
     "data": {
      "text/plain": [
       "595"
      ]
     },
     "execution_count": 79,
     "metadata": {},
     "output_type": "execute_result"
    }
   ],
   "source": [
    "(np.abs(clf.coef_) > 0).sum()"
   ]
  },
  {
   "cell_type": "code",
   "execution_count": 172,
   "id": "23e0ad73",
   "metadata": {},
   "outputs": [
    {
     "data": {
      "text/plain": [
       "(0.7771576792151839, 0.7806518365235385)"
      ]
     },
     "execution_count": 172,
     "metadata": {},
     "output_type": "execute_result"
    }
   ],
   "source": [
    "from sklearn.svm import SVC\n",
    "\n",
    "clf = SVC(random_state=42, C=1, class_weight=\"balanced\")\n",
    "clf.fit(X_train > c, y_train)\n",
    "y_hat = clf.predict(X_test > c)\n",
    "balanced_accuracy_score(y_test, y_hat), accuracy_score(y_test, y_hat)"
   ]
  },
  {
   "cell_type": "code",
   "execution_count": 89,
   "id": "1a77d6e8",
   "metadata": {},
   "outputs": [
    {
     "data": {
      "text/plain": [
       "0.7191292660561983"
      ]
     },
     "execution_count": 89,
     "metadata": {},
     "output_type": "execute_result"
    }
   ],
   "source": [
    "from GMHI import GMHI\n",
    "best = -1\n",
    "for theta_f in [1, 1.1, 1.2, 1.3, 1.4, 1.5, 1.6, 1.7, 1.8, 1.9, 2]:\n",
    "    for theta_d in [0.05, 0.1, 0.15, 0.2]:\n",
    "        g = GMHI(use_shannon=False, theta_f=theta_f, theta_d=theta_d)\n",
    "        g.fit(X_train, y_train)\n",
    "        y_hat = g.predict(X_test)\n",
    "        best = max(best, balanced_accuracy_score(y_test, y_hat))\n",
    "best"
   ]
  },
  {
   "cell_type": "code",
   "execution_count": null,
   "id": "becbd168",
   "metadata": {},
   "outputs": [],
   "source": []
  }
 ],
 "metadata": {
  "kernelspec": {
   "display_name": "Python 3 (ipykernel)",
   "language": "python",
   "name": "python3"
  },
  "language_info": {
   "codemirror_mode": {
    "name": "ipython",
    "version": 3
   },
   "file_extension": ".py",
   "mimetype": "text/x-python",
   "name": "python",
   "nbconvert_exporter": "python",
   "pygments_lexer": "ipython3",
   "version": "3.7.12"
  }
 },
 "nbformat": 4,
 "nbformat_minor": 5
}
