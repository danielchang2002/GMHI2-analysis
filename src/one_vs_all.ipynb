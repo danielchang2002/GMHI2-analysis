{
 "cells": [
  {
   "cell_type": "code",
   "execution_count": 1,
   "id": "c6222cb2",
   "metadata": {},
   "outputs": [],
   "source": [
    "import pandas as pd\n",
    "import numpy as np\n",
    "from utils import get_species, get_labels, get_labels_all"
   ]
  },
  {
   "cell_type": "code",
   "execution_count": 2,
   "id": "7f0e651f",
   "metadata": {},
   "outputs": [],
   "source": [
    "X, y, y_all = get_species(), get_labels(), get_labels_all()"
   ]
  },
  {
   "cell_type": "code",
   "execution_count": 3,
   "id": "754e961d",
   "metadata": {},
   "outputs": [],
   "source": [
    "X = X[list(filter(lambda x : \"virus\" not in x and \"unclassified\" not in x, X.columns))]"
   ]
  },
  {
   "cell_type": "code",
   "execution_count": 4,
   "id": "1804e075",
   "metadata": {},
   "outputs": [],
   "source": [
    "weights = ((y_all == \"T2D\") | (y_all == \"Obesity\") | (y_all == \"Overweight\") | (y_all == \"Underweight\")).values\n",
    "X_red, y_red, y_all_red = X.iloc[~weights, :], y.iloc[~weights, :], y_all.iloc[~weights, :]"
   ]
  },
  {
   "cell_type": "code",
   "execution_count": 5,
   "id": "4ca32d09",
   "metadata": {},
   "outputs": [
    {
     "data": {
      "text/plain": [
       "(9661, 1392)"
      ]
     },
     "execution_count": 5,
     "metadata": {},
     "output_type": "execute_result"
    }
   ],
   "source": [
    "X_red.shape"
   ]
  },
  {
   "cell_type": "code",
   "execution_count": 6,
   "id": "ed1bafb1",
   "metadata": {},
   "outputs": [],
   "source": [
    "from sklearn.model_selection import train_test_split\n",
    "X_train, X_test, y_train, y_test = train_test_split(X_red, y_red, test_size=0.2, random_state=42)"
   ]
  },
  {
   "cell_type": "code",
   "execution_count": 7,
   "id": "7d690986",
   "metadata": {},
   "outputs": [
    {
     "name": "stdout",
     "output_type": "stream",
     "text": [
      "['Obese']\n",
      "['advanced adenoma', 'carcinoma']\n",
      "['Rheumatoid arthritis']\n",
      "['ACVD']\n",
      "['Hypertension (HTN)']\n",
      "['CRC']\n",
      "['CRC']\n",
      "['CD', 'Ulcerative colitis']\n",
      "['Cancer', 'Large adenoma', 'Small adenoma']\n",
      "['CD']\n",
      "['Liver Cirrhosis']\n",
      "['IGT']\n",
      "['Crohns disease', 'Ulcerative colitis']\n",
      "['NAFLD']\n",
      "['CRC', 'adenoma']\n",
      "['CRC']\n",
      "['ankylosing spondylitis']\n",
      "['Advanced Dementia']\n",
      "['End-stage renal disease (ESRD)']\n",
      "['CD', 'Ulcerative colitis']\n",
      "['Non–small cell lung cancer (NSCLC)', 'Renal cell carcinoma (RCC)']\n",
      "[\"Crohn''s disease\", 'Ulcerative colitis', 'ulcerative colitis']\n",
      "['Behcet’s disease']\n",
      "['Breast Cancer']\n",
      "['Rheumatoid Arthritis']\n",
      "['Graves’ disease']\n",
      "['Adenoma', 'Cancer']\n",
      "['Adenoma (MP)', 'CRC']\n",
      "['CD', 'Ulcerative colitis']\n",
      "['CD', 'Ulcerative colitis']\n",
      "['schizophrenia']\n",
      "['Pancreatic cancer']\n",
      "['Obese']\n"
     ]
    }
   ],
   "source": [
    "for study in np.unique(X_red.index.get_level_values(0)):\n",
    "    uniques = list(np.unique(y_all_red.loc[study]))\n",
    "    if uniques == [\"Healthy\"]: continue\n",
    "    if \"Healthy\" in uniques: uniques.remove(\"Healthy\")\n",
    "    print(uniques)"
   ]
  },
  {
   "cell_type": "code",
   "execution_count": null,
   "id": "d88c4918",
   "metadata": {},
   "outputs": [],
   "source": []
  }
 ],
 "metadata": {
  "kernelspec": {
   "display_name": "Python 3 (ipykernel)",
   "language": "python",
   "name": "python3"
  },
  "language_info": {
   "codemirror_mode": {
    "name": "ipython",
    "version": 3
   },
   "file_extension": ".py",
   "mimetype": "text/x-python",
   "name": "python",
   "nbconvert_exporter": "python",
   "pygments_lexer": "ipython3",
   "version": "3.7.9"
  }
 },
 "nbformat": 4,
 "nbformat_minor": 5
}
