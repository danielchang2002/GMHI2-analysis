{
 "cells": [
  {
   "cell_type": "code",
   "execution_count": 1,
   "id": "bb6936cc",
   "metadata": {},
   "outputs": [],
   "source": [
    "import pandas as pd\n",
    "import numpy as np\n",
    "from utils import get_species, get_labels, get_labels_all"
   ]
  },
  {
   "cell_type": "code",
   "execution_count": 2,
   "id": "80c82b1d",
   "metadata": {},
   "outputs": [],
   "source": [
    "X, y, y_all = get_species(), get_labels(), get_labels_all()"
   ]
  },
  {
   "cell_type": "code",
   "execution_count": 3,
   "id": "88619938",
   "metadata": {},
   "outputs": [],
   "source": [
    "cols = ((X > 0.00001).mean(axis=0) > 0.01).values"
   ]
  },
  {
   "cell_type": "code",
   "execution_count": 4,
   "id": "0a2da02d",
   "metadata": {},
   "outputs": [],
   "source": [
    "X = X.iloc[:, cols]"
   ]
  },
  {
   "cell_type": "code",
   "execution_count": 5,
   "id": "2e748ab5",
   "metadata": {},
   "outputs": [],
   "source": [
    "X = X[list(filter(lambda x : \"virus\" not in x and \"Virus\" not in x and \"unclassified\" not in x, X.columns))]"
   ]
  },
  {
   "cell_type": "code",
   "execution_count": 6,
   "id": "e115c787",
   "metadata": {},
   "outputs": [],
   "source": [
    "remove = ((y_all == \"Underweight\") | (y_all == \"Overweight\") | (y_all == \"Obesity\")).values"
   ]
  },
  {
   "cell_type": "code",
   "execution_count": 7,
   "id": "78115fae",
   "metadata": {},
   "outputs": [],
   "source": [
    "X, y, y_all = X.iloc[~remove, :], y.iloc[~remove, :], y_all.iloc[~remove, :]"
   ]
  },
  {
   "cell_type": "code",
   "execution_count": null,
   "id": "646e7ef3",
   "metadata": {},
   "outputs": [],
   "source": [
    "X = X.iloc[:, :-1]"
   ]
  },
  {
   "cell_type": "code",
   "execution_count": null,
   "id": "21e43f1c",
   "metadata": {},
   "outputs": [],
   "source": [
    "X"
   ]
  },
  {
   "cell_type": "code",
   "execution_count": 15,
   "id": "85fb4b3e",
   "metadata": {},
   "outputs": [],
   "source": [
    "from skbio.diversity import beta_diversity"
   ]
  },
  {
   "cell_type": "code",
   "execution_count": 21,
   "id": "503d8200",
   "metadata": {},
   "outputs": [],
   "source": [
    "distances = beta_diversity(\"braycurtis\", X)"
   ]
  },
  {
   "cell_type": "code",
   "execution_count": null,
   "id": "76e16dd3",
   "metadata": {},
   "outputs": [],
   "source": [
    "distances.shape"
   ]
  },
  {
   "cell_type": "code",
   "execution_count": null,
   "id": "e939a637",
   "metadata": {},
   "outputs": [],
   "source": []
  }
 ],
 "metadata": {
  "kernelspec": {
   "display_name": "Python 3 (ipykernel)",
   "language": "python",
   "name": "python3"
  },
  "language_info": {
   "codemirror_mode": {
    "name": "ipython",
    "version": 3
   },
   "file_extension": ".py",
   "mimetype": "text/x-python",
   "name": "python",
   "nbconvert_exporter": "python",
   "pygments_lexer": "ipython3",
   "version": "3.7.9"
  }
 },
 "nbformat": 4,
 "nbformat_minor": 5
}
