{
 "cells": [
  {
   "cell_type": "code",
   "execution_count": 9,
   "id": "a7cde220",
   "metadata": {},
   "outputs": [],
   "source": [
    "import pandas as pd\n",
    "import numpy as np\n",
    "from utils import get_species, get_labels, get_labels_all\n",
    "from utils import get_taxonomy"
   ]
  },
  {
   "cell_type": "code",
   "execution_count": 10,
   "id": "469a6c5b",
   "metadata": {},
   "outputs": [],
   "source": [
    "X, y, y_all = get_taxonomy(), get_labels(), get_labels_all()"
   ]
  },
  {
   "cell_type": "code",
   "execution_count": 11,
   "id": "f6b829af",
   "metadata": {},
   "outputs": [],
   "source": [
    "remove = (\n",
    "    (y_all == \"Underweight\").values.flatten() | \n",
    "    (y_all == \"Overweight\").values.flatten() |\n",
    "    (y_all == \"Obesity\").values.flatten() |\n",
    "    (y_all == \"Obese\").values.flatten() |\n",
    "    (X['UNKNOWN'] >= 100).values.flatten()\n",
    "    )"
   ]
  },
  {
   "cell_type": "code",
   "execution_count": 12,
   "id": "ebc3424e",
   "metadata": {},
   "outputs": [],
   "source": [
    "X, y, y_all = X.iloc[~remove, :], y.iloc[~remove, :], y_all.iloc[~remove, :]"
   ]
  },
  {
   "cell_type": "code",
   "execution_count": 13,
   "id": "6d602ac6",
   "metadata": {},
   "outputs": [],
   "source": [
    "studies = np.unique(X.index.get_level_values(0))"
   ]
  },
  {
   "cell_type": "code",
   "execution_count": 14,
   "id": "6ed1bd93",
   "metadata": {},
   "outputs": [],
   "source": [
    "np.random.seed(42)\n",
    "perm = np.random.permutation(len(studies))\n",
    "prop = 0.9\n",
    "train_idx, test_idx = perm[:int(len(studies) * prop)], perm[int(len(studies) * prop):]\n",
    "train_studies = studies[train_idx]\n",
    "test_studies = studies[test_idx]"
   ]
  },
  {
   "cell_type": "code",
   "execution_count": 15,
   "id": "6495ef44",
   "metadata": {},
   "outputs": [],
   "source": [
    "X_train, y_train = X.loc[train_studies], y.loc[train_studies]\n",
    "X_test, y_test = X.loc[test_studies], y.loc[test_studies]"
   ]
  },
  {
   "cell_type": "code",
   "execution_count": 31,
   "id": "75a53ad4",
   "metadata": {},
   "outputs": [],
   "source": [
    "from sklearn.linear_model import LogisticRegression\n",
    "\n",
    "clf = LogisticRegression(random_state=42, penalty=\"l1\", solver=\"liblinear\", C=0.03, class_weight=\"balanced\")"
   ]
  },
  {
   "cell_type": "code",
   "execution_count": 32,
   "id": "a2985a74",
   "metadata": {},
   "outputs": [
    {
     "name": "stderr",
     "output_type": "stream",
     "text": [
      "/Users/daniel/opt/anaconda3/envs/data/lib/python3.7/site-packages/sklearn/utils/validation.py:993: DataConversionWarning: A column-vector y was passed when a 1d array was expected. Please change the shape of y to (n_samples, ), for example using ravel().\n",
      "  y = column_or_1d(y, warn=True)\n"
     ]
    }
   ],
   "source": [
    "c = 0.00001\n",
    "clf.fit(X_train > c, y_train)\n",
    "pred = clf.predict(X_test > c)"
   ]
  },
  {
   "cell_type": "code",
   "execution_count": 33,
   "id": "6b2dbe38",
   "metadata": {},
   "outputs": [
    {
     "data": {
      "text/plain": [
       "(0.643901088173534, 0.6410505836575876)"
      ]
     },
     "execution_count": 33,
     "metadata": {},
     "output_type": "execute_result"
    }
   ],
   "source": [
    "from sklearn.metrics import balanced_accuracy_score, accuracy_score\n",
    "\n",
    "balanced_accuracy_score(y_test, pred), accuracy_score(y_test, pred)"
   ]
  },
  {
   "cell_type": "code",
   "execution_count": null,
   "id": "a5ea985b",
   "metadata": {},
   "outputs": [],
   "source": []
  }
 ],
 "metadata": {
  "kernelspec": {
   "display_name": "Python 3 (ipykernel)",
   "language": "python",
   "name": "python3"
  },
  "language_info": {
   "codemirror_mode": {
    "name": "ipython",
    "version": 3
   },
   "file_extension": ".py",
   "mimetype": "text/x-python",
   "name": "python",
   "nbconvert_exporter": "python",
   "pygments_lexer": "ipython3",
   "version": "3.7.9"
  }
 },
 "nbformat": 4,
 "nbformat_minor": 5
}
